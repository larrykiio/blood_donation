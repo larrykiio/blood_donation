{
    "nbformat_minor": 1, 
    "cells": [
        {
            "execution_count": 1, 
            "cell_type": "code", 
            "metadata": {}, 
            "outputs": [], 
            "source": "# The code was removed by Watson Studio for sharing."
        }, 
        {
            "execution_count": null, 
            "cell_type": "code", 
            "metadata": {}, 
            "outputs": [], 
            "source": ""
        }, 
        {
            "source": "## Import Your Dataset", 
            "cell_type": "markdown", 
            "metadata": {
                "collapsed": true
            }
        }, 
        {
            "execution_count": 2, 
            "cell_type": "code", 
            "metadata": {}, 
            "outputs": [
                {
                    "execution_count": 2, 
                    "metadata": {}, 
                    "data": {
                        "text/html": "<div>\n<style scoped>\n    .dataframe tbody tr th:only-of-type {\n        vertical-align: middle;\n    }\n\n    .dataframe tbody tr th {\n        vertical-align: top;\n    }\n\n    .dataframe thead th {\n        text-align: right;\n    }\n</style>\n<table border=\"1\" class=\"dataframe\">\n  <thead>\n    <tr style=\"text-align: right;\">\n      <th></th>\n      <th>Unnamed: 0</th>\n      <th>Months since Last Donation</th>\n      <th>Number of Donations</th>\n      <th>Total Volume Donated (c.c.)</th>\n      <th>Months since First Donation</th>\n      <th>Made Donation in March 2007</th>\n    </tr>\n  </thead>\n  <tbody>\n    <tr>\n      <th>0</th>\n      <td>619</td>\n      <td>2</td>\n      <td>50</td>\n      <td>12500</td>\n      <td>98</td>\n      <td>1</td>\n    </tr>\n    <tr>\n      <th>1</th>\n      <td>664</td>\n      <td>0</td>\n      <td>13</td>\n      <td>3250</td>\n      <td>28</td>\n      <td>1</td>\n    </tr>\n    <tr>\n      <th>2</th>\n      <td>441</td>\n      <td>1</td>\n      <td>16</td>\n      <td>4000</td>\n      <td>35</td>\n      <td>1</td>\n    </tr>\n    <tr>\n      <th>3</th>\n      <td>160</td>\n      <td>2</td>\n      <td>20</td>\n      <td>5000</td>\n      <td>45</td>\n      <td>1</td>\n    </tr>\n    <tr>\n      <th>4</th>\n      <td>358</td>\n      <td>1</td>\n      <td>24</td>\n      <td>6000</td>\n      <td>77</td>\n      <td>0</td>\n    </tr>\n  </tbody>\n</table>\n</div>", 
                        "text/plain": "   Unnamed: 0  Months since Last Donation  Number of Donations  \\\n0         619                           2                   50   \n1         664                           0                   13   \n2         441                           1                   16   \n3         160                           2                   20   \n4         358                           1                   24   \n\n   Total Volume Donated (c.c.)  Months since First Donation  \\\n0                        12500                           98   \n1                         3250                           28   \n2                         4000                           35   \n3                         5000                           45   \n4                         6000                           77   \n\n   Made Donation in March 2007  \n0                            1  \n1                            1  \n2                            1  \n3                            1  \n4                            0  "
                    }, 
                    "output_type": "execute_result"
                }
            ], 
            "source": "# The code was removed by Watson Studio for sharing."
        }, 
        {
            "execution_count": 3, 
            "cell_type": "code", 
            "metadata": {}, 
            "outputs": [
                {
                    "execution_count": 3, 
                    "metadata": {}, 
                    "data": {
                        "text/html": "<div>\n<style scoped>\n    .dataframe tbody tr th:only-of-type {\n        vertical-align: middle;\n    }\n\n    .dataframe tbody tr th {\n        vertical-align: top;\n    }\n\n    .dataframe thead th {\n        text-align: right;\n    }\n</style>\n<table border=\"1\" class=\"dataframe\">\n  <thead>\n    <tr style=\"text-align: right;\">\n      <th></th>\n      <th>Unnamed: 0</th>\n      <th>Months since Last Donation</th>\n      <th>Number of Donations</th>\n      <th>Total Volume Donated (c.c.)</th>\n      <th>Months since First Donation</th>\n    </tr>\n  </thead>\n  <tbody>\n    <tr>\n      <th>0</th>\n      <td>659</td>\n      <td>2</td>\n      <td>12</td>\n      <td>3000</td>\n      <td>52</td>\n    </tr>\n    <tr>\n      <th>1</th>\n      <td>276</td>\n      <td>21</td>\n      <td>7</td>\n      <td>1750</td>\n      <td>38</td>\n    </tr>\n    <tr>\n      <th>2</th>\n      <td>263</td>\n      <td>4</td>\n      <td>1</td>\n      <td>250</td>\n      <td>4</td>\n    </tr>\n    <tr>\n      <th>3</th>\n      <td>303</td>\n      <td>11</td>\n      <td>11</td>\n      <td>2750</td>\n      <td>38</td>\n    </tr>\n    <tr>\n      <th>4</th>\n      <td>83</td>\n      <td>4</td>\n      <td>12</td>\n      <td>3000</td>\n      <td>34</td>\n    </tr>\n  </tbody>\n</table>\n</div>", 
                        "text/plain": "   Unnamed: 0  Months since Last Donation  Number of Donations  \\\n0         659                           2                   12   \n1         276                          21                    7   \n2         263                           4                    1   \n3         303                          11                   11   \n4          83                           4                   12   \n\n   Total Volume Donated (c.c.)  Months since First Donation  \n0                         3000                           52  \n1                         1750                           38  \n2                          250                            4  \n3                         2750                           38  \n4                         3000                           34  "
                    }, 
                    "output_type": "execute_result"
                }
            ], 
            "source": "\nbody = client_887e8fed66994bce85b726a4b6eee3dd.get_object(Bucket='predictblooddonation-donotdelete-pr-zd9e3njxbqzk3r',Key='test.csv')['Body']\n# add missing __iter__ method, so pandas accepts body as file-like object\nif not hasattr(body, \"__iter__\"): body.__iter__ = types.MethodType( __iter__, body )\n\ndf_test = pd.read_csv(body)\ndf_test.head()\n\n"
        }, 
        {
            "execution_count": 4, 
            "cell_type": "code", 
            "metadata": {}, 
            "outputs": [
                {
                    "output_type": "stream", 
                    "name": "stderr", 
                    "text": "/opt/conda/envs/DSX-Python35/lib/python3.5/site-packages/sklearn/cross_validation.py:41: DeprecationWarning: This module was deprecated in version 0.18 in favor of the model_selection module into which all the refactored classes and functions are moved. Also note that the interface of the new CV iterators are different from that of this module. This module will be removed in 0.20.\n  \"This module will be removed in 0.20.\", DeprecationWarning)\n"
                }
            ], 
            "source": "import pandas as pd\nimport numpy as np\nfrom sklearn import preprocessing\nfrom sklearn.model_selection import train_test_split\nfrom sklearn.linear_model import LogisticRegression\nfrom sklearn.tree import DecisionTreeClassifier\nfrom sklearn.neighbors import KNeighborsClassifier\nfrom sklearn import metrics\nfrom sklearn.cross_validation import cross_val_score, cross_val_predict\n"
        }, 
        {
            "execution_count": 5, 
            "cell_type": "code", 
            "metadata": {}, 
            "outputs": [
                {
                    "execution_count": 5, 
                    "metadata": {}, 
                    "data": {
                        "text/plain": "(576, 6)"
                    }, 
                    "output_type": "execute_result"
                }
            ], 
            "source": "df_train.shape#check the shape of the data"
        }, 
        {
            "execution_count": 6, 
            "cell_type": "code", 
            "metadata": {}, 
            "outputs": [
                {
                    "execution_count": 6, 
                    "metadata": {}, 
                    "data": {
                        "text/plain": "0"
                    }, 
                    "output_type": "execute_result"
                }
            ], 
            "source": "np.sum(df_train.duplicated())# no duplicates"
        }, 
        {
            "execution_count": 7, 
            "cell_type": "code", 
            "metadata": {}, 
            "outputs": [
                {
                    "execution_count": 7, 
                    "metadata": {}, 
                    "data": {
                        "text/plain": "28"
                    }, 
                    "output_type": "execute_result"
                }
            ], 
            "source": "np.sum(df_test.duplicated())"
        }, 
        {
            "execution_count": null, 
            "cell_type": "code", 
            "metadata": {}, 
            "outputs": [], 
            "source": ""
        }, 
        {
            "execution_count": 8, 
            "cell_type": "code", 
            "metadata": {}, 
            "outputs": [
                {
                    "execution_count": 8, 
                    "metadata": {}, 
                    "data": {
                        "text/plain": "28"
                    }, 
                    "output_type": "execute_result"
                }
            ], 
            "source": "np.sum(df_test.duplicated())"
        }, 
        {
            "execution_count": 9, 
            "cell_type": "code", 
            "metadata": {}, 
            "outputs": [
                {
                    "execution_count": 9, 
                    "metadata": {}, 
                    "data": {
                        "text/plain": "Unnamed: 0                     0\nMonths since Last Donation     0\nNumber of Donations            0\nTotal Volume Donated (c.c.)    0\nMonths since First Donation    0\nMade Donation in March 2007    0\ndtype: int64"
                    }, 
                    "output_type": "execute_result"
                }
            ], 
            "source": "#check the null values\ndf_train.isnull().sum()"
        }, 
        {
            "execution_count": 10, 
            "cell_type": "code", 
            "metadata": {}, 
            "outputs": [
                {
                    "execution_count": 10, 
                    "metadata": {}, 
                    "data": {
                        "text/plain": "Unnamed: 0                     0\nMonths since Last Donation     0\nNumber of Donations            0\nTotal Volume Donated (c.c.)    0\nMonths since First Donation    0\ndtype: int64"
                    }, 
                    "output_type": "execute_result"
                }
            ], 
            "source": "df_test.isnull().sum()"
        }, 
        {
            "source": "#### No null values", 
            "cell_type": "markdown", 
            "metadata": {}
        }, 
        {
            "execution_count": 11, 
            "cell_type": "code", 
            "metadata": {}, 
            "outputs": [
                {
                    "execution_count": 11, 
                    "metadata": {}, 
                    "data": {
                        "text/plain": "Unnamed: 0                     int64\nMonths since Last Donation     int64\nNumber of Donations            int64\nTotal Volume Donated (c.c.)    int64\nMonths since First Donation    int64\nMade Donation in March 2007    int64\ndtype: object"
                    }, 
                    "output_type": "execute_result"
                }
            ], 
            "source": "df_train.dtypes"
        }, 
        {
            "execution_count": 12, 
            "cell_type": "code", 
            "metadata": {}, 
            "outputs": [
                {
                    "execution_count": 12, 
                    "metadata": {}, 
                    "data": {
                        "text/html": "<div>\n<style scoped>\n    .dataframe tbody tr th:only-of-type {\n        vertical-align: middle;\n    }\n\n    .dataframe tbody tr th {\n        vertical-align: top;\n    }\n\n    .dataframe thead th {\n        text-align: right;\n    }\n</style>\n<table border=\"1\" class=\"dataframe\">\n  <thead>\n    <tr style=\"text-align: right;\">\n      <th></th>\n      <th>Unnamed: 0</th>\n      <th>Months since Last Donation</th>\n      <th>Number of Donations</th>\n      <th>Total Volume Donated (c.c.)</th>\n      <th>Months since First Donation</th>\n      <th>Made Donation in March 2007</th>\n    </tr>\n  </thead>\n  <tbody>\n    <tr>\n      <th>Unnamed: 0</th>\n      <td>1.000000</td>\n      <td>-0.023217</td>\n      <td>0.063148</td>\n      <td>0.063148</td>\n      <td>0.098370</td>\n      <td>0.041925</td>\n    </tr>\n    <tr>\n      <th>Months since Last Donation</th>\n      <td>-0.023217</td>\n      <td>1.000000</td>\n      <td>-0.159731</td>\n      <td>-0.159731</td>\n      <td>0.186899</td>\n      <td>-0.261234</td>\n    </tr>\n    <tr>\n      <th>Number of Donations</th>\n      <td>0.063148</td>\n      <td>-0.159731</td>\n      <td>1.000000</td>\n      <td>1.000000</td>\n      <td>0.622116</td>\n      <td>0.220615</td>\n    </tr>\n    <tr>\n      <th>Total Volume Donated (c.c.)</th>\n      <td>0.063148</td>\n      <td>-0.159731</td>\n      <td>1.000000</td>\n      <td>1.000000</td>\n      <td>0.622116</td>\n      <td>0.220615</td>\n    </tr>\n    <tr>\n      <th>Months since First Donation</th>\n      <td>0.098370</td>\n      <td>0.186899</td>\n      <td>0.622116</td>\n      <td>0.622116</td>\n      <td>1.000000</td>\n      <td>-0.019819</td>\n    </tr>\n    <tr>\n      <th>Made Donation in March 2007</th>\n      <td>0.041925</td>\n      <td>-0.261234</td>\n      <td>0.220615</td>\n      <td>0.220615</td>\n      <td>-0.019819</td>\n      <td>1.000000</td>\n    </tr>\n  </tbody>\n</table>\n</div>", 
                        "text/plain": "                             Unnamed: 0  Months since Last Donation  \\\nUnnamed: 0                     1.000000                   -0.023217   \nMonths since Last Donation    -0.023217                    1.000000   \nNumber of Donations            0.063148                   -0.159731   \nTotal Volume Donated (c.c.)    0.063148                   -0.159731   \nMonths since First Donation    0.098370                    0.186899   \nMade Donation in March 2007    0.041925                   -0.261234   \n\n                             Number of Donations  Total Volume Donated (c.c.)  \\\nUnnamed: 0                              0.063148                     0.063148   \nMonths since Last Donation             -0.159731                    -0.159731   \nNumber of Donations                     1.000000                     1.000000   \nTotal Volume Donated (c.c.)             1.000000                     1.000000   \nMonths since First Donation             0.622116                     0.622116   \nMade Donation in March 2007             0.220615                     0.220615   \n\n                             Months since First Donation  \\\nUnnamed: 0                                      0.098370   \nMonths since Last Donation                      0.186899   \nNumber of Donations                             0.622116   \nTotal Volume Donated (c.c.)                     0.622116   \nMonths since First Donation                     1.000000   \nMade Donation in March 2007                    -0.019819   \n\n                             Made Donation in March 2007  \nUnnamed: 0                                      0.041925  \nMonths since Last Donation                     -0.261234  \nNumber of Donations                             0.220615  \nTotal Volume Donated (c.c.)                     0.220615  \nMonths since First Donation                    -0.019819  \nMade Donation in March 2007                     1.000000  "
                    }, 
                    "output_type": "execute_result"
                }
            ], 
            "source": "df_train.corr()"
        }, 
        {
            "execution_count": 13, 
            "cell_type": "code", 
            "metadata": {}, 
            "outputs": [
                {
                    "execution_count": 13, 
                    "metadata": {}, 
                    "data": {
                        "text/plain": "Index(['Unnamed: 0', 'Months since Last Donation', 'Number of Donations',\n       'Total Volume Donated (c.c.)', 'Months since First Donation',\n       'Made Donation in March 2007'],\n      dtype='object')"
                    }, 
                    "output_type": "execute_result"
                }
            ], 
            "source": "df_train.columns"
        }, 
        {
            "execution_count": 14, 
            "cell_type": "code", 
            "metadata": {}, 
            "outputs": [
                {
                    "execution_count": 14, 
                    "metadata": {}, 
                    "data": {
                        "text/html": "<div>\n<style scoped>\n    .dataframe tbody tr th:only-of-type {\n        vertical-align: middle;\n    }\n\n    .dataframe tbody tr th {\n        vertical-align: top;\n    }\n\n    .dataframe thead th {\n        text-align: right;\n    }\n</style>\n<table border=\"1\" class=\"dataframe\">\n  <thead>\n    <tr style=\"text-align: right;\">\n      <th></th>\n      <th>Unnamed: 0</th>\n      <th>Months since Last Donation</th>\n      <th>Number of Donations</th>\n      <th>Total Volume Donated (c.c.)</th>\n      <th>Months since First Donation</th>\n      <th>Made Donation in March 2007</th>\n      <th>Ratio</th>\n    </tr>\n  </thead>\n  <tbody>\n    <tr>\n      <th>0</th>\n      <td>619</td>\n      <td>2</td>\n      <td>50</td>\n      <td>12500</td>\n      <td>98</td>\n      <td>1</td>\n      <td>0.020408</td>\n    </tr>\n    <tr>\n      <th>1</th>\n      <td>664</td>\n      <td>0</td>\n      <td>13</td>\n      <td>3250</td>\n      <td>28</td>\n      <td>1</td>\n      <td>0.000000</td>\n    </tr>\n    <tr>\n      <th>2</th>\n      <td>441</td>\n      <td>1</td>\n      <td>16</td>\n      <td>4000</td>\n      <td>35</td>\n      <td>1</td>\n      <td>0.028571</td>\n    </tr>\n    <tr>\n      <th>3</th>\n      <td>160</td>\n      <td>2</td>\n      <td>20</td>\n      <td>5000</td>\n      <td>45</td>\n      <td>1</td>\n      <td>0.044444</td>\n    </tr>\n    <tr>\n      <th>4</th>\n      <td>358</td>\n      <td>1</td>\n      <td>24</td>\n      <td>6000</td>\n      <td>77</td>\n      <td>0</td>\n      <td>0.012987</td>\n    </tr>\n  </tbody>\n</table>\n</div>", 
                        "text/plain": "   Unnamed: 0  Months since Last Donation  Number of Donations  \\\n0         619                           2                   50   \n1         664                           0                   13   \n2         441                           1                   16   \n3         160                           2                   20   \n4         358                           1                   24   \n\n   Total Volume Donated (c.c.)  Months since First Donation  \\\n0                        12500                           98   \n1                         3250                           28   \n2                         4000                           35   \n3                         5000                           45   \n4                         6000                           77   \n\n   Made Donation in March 2007     Ratio  \n0                            1  0.020408  \n1                            1  0.000000  \n2                            1  0.028571  \n3                            1  0.044444  \n4                            0  0.012987  "
                    }, 
                    "output_type": "execute_result"
                }
            ], 
            "source": "ratio=df_train['Months since Last Donation']/df_train['Months since First Donation']\ndf_train['Ratio']=ratio\ndf_train.head()"
        }, 
        {
            "execution_count": 15, 
            "cell_type": "code", 
            "metadata": {}, 
            "outputs": [], 
            "source": "donation_per_month=df_train['Number of Donations']/df_train['Months since First Donation']\ndf_train['per_month']=donation_per_month\ndonation_per_month1=df_test['Number of Donations']/df_test['Months since First Donation']\ndf_test['per_month']=donation_per_month1\navg_don=df_train['Total Volume Donated (c.c.)']/df_train['Months since First Donation']\ndf_train['avg_don']=avg_don"
        }, 
        {
            "execution_count": 16, 
            "cell_type": "code", 
            "metadata": {}, 
            "outputs": [
                {
                    "execution_count": 16, 
                    "metadata": {}, 
                    "data": {
                        "text/html": "<div>\n<style scoped>\n    .dataframe tbody tr th:only-of-type {\n        vertical-align: middle;\n    }\n\n    .dataframe tbody tr th {\n        vertical-align: top;\n    }\n\n    .dataframe thead th {\n        text-align: right;\n    }\n</style>\n<table border=\"1\" class=\"dataframe\">\n  <thead>\n    <tr style=\"text-align: right;\">\n      <th></th>\n      <th>Unnamed: 0</th>\n      <th>Months since Last Donation</th>\n      <th>Number of Donations</th>\n      <th>Total Volume Donated (c.c.)</th>\n      <th>Months since First Donation</th>\n      <th>per_month</th>\n      <th>avg_don</th>\n      <th>Ratio</th>\n    </tr>\n  </thead>\n  <tbody>\n    <tr>\n      <th>0</th>\n      <td>659</td>\n      <td>2</td>\n      <td>12</td>\n      <td>3000</td>\n      <td>52</td>\n      <td>0.230769</td>\n      <td>57.692308</td>\n      <td>0.038462</td>\n    </tr>\n    <tr>\n      <th>1</th>\n      <td>276</td>\n      <td>21</td>\n      <td>7</td>\n      <td>1750</td>\n      <td>38</td>\n      <td>0.184211</td>\n      <td>46.052632</td>\n      <td>0.552632</td>\n    </tr>\n    <tr>\n      <th>2</th>\n      <td>263</td>\n      <td>4</td>\n      <td>1</td>\n      <td>250</td>\n      <td>4</td>\n      <td>0.250000</td>\n      <td>62.500000</td>\n      <td>1.000000</td>\n    </tr>\n    <tr>\n      <th>3</th>\n      <td>303</td>\n      <td>11</td>\n      <td>11</td>\n      <td>2750</td>\n      <td>38</td>\n      <td>0.289474</td>\n      <td>72.368421</td>\n      <td>0.289474</td>\n    </tr>\n    <tr>\n      <th>4</th>\n      <td>83</td>\n      <td>4</td>\n      <td>12</td>\n      <td>3000</td>\n      <td>34</td>\n      <td>0.352941</td>\n      <td>88.235294</td>\n      <td>0.117647</td>\n    </tr>\n  </tbody>\n</table>\n</div>", 
                        "text/plain": "   Unnamed: 0  Months since Last Donation  Number of Donations  \\\n0         659                           2                   12   \n1         276                          21                    7   \n2         263                           4                    1   \n3         303                          11                   11   \n4          83                           4                   12   \n\n   Total Volume Donated (c.c.)  Months since First Donation  per_month  \\\n0                         3000                           52   0.230769   \n1                         1750                           38   0.184211   \n2                          250                            4   0.250000   \n3                         2750                           38   0.289474   \n4                         3000                           34   0.352941   \n\n     avg_don     Ratio  \n0  57.692308  0.038462  \n1  46.052632  0.552632  \n2  62.500000  1.000000  \n3  72.368421  0.289474  \n4  88.235294  0.117647  "
                    }, 
                    "output_type": "execute_result"
                }
            ], 
            "source": "avg_don=df_test['Total Volume Donated (c.c.)']/df_test['Months since First Donation']\ndf_test['avg_don']=avg_don\nratio1=df_test['Months since Last Donation']/df_test['Months since First Donation']\ndf_test['Ratio']=ratio1\ndf_test.head()"
        }, 
        {
            "execution_count": 17, 
            "cell_type": "code", 
            "metadata": {}, 
            "outputs": [
                {
                    "execution_count": 17, 
                    "metadata": {}, 
                    "data": {
                        "text/html": "<div>\n<style scoped>\n    .dataframe tbody tr th:only-of-type {\n        vertical-align: middle;\n    }\n\n    .dataframe tbody tr th {\n        vertical-align: top;\n    }\n\n    .dataframe thead th {\n        text-align: right;\n    }\n</style>\n<table border=\"1\" class=\"dataframe\">\n  <thead>\n    <tr style=\"text-align: right;\">\n      <th></th>\n      <th>Unnamed: 0</th>\n      <th>Months since Last Donation</th>\n      <th>Number of Donations</th>\n      <th>Total Volume Donated (c.c.)</th>\n      <th>Months since First Donation</th>\n      <th>Made Donation in March 2007</th>\n      <th>Ratio</th>\n      <th>per_month</th>\n      <th>avg_don</th>\n    </tr>\n  </thead>\n  <tbody>\n    <tr>\n      <th>Unnamed: 0</th>\n      <td>1.000000</td>\n      <td>-0.023217</td>\n      <td>0.063148</td>\n      <td>0.063148</td>\n      <td>0.098370</td>\n      <td>0.041925</td>\n      <td>-0.096066</td>\n      <td>-0.013313</td>\n      <td>-0.013313</td>\n    </tr>\n    <tr>\n      <th>Months since Last Donation</th>\n      <td>-0.023217</td>\n      <td>1.000000</td>\n      <td>-0.159731</td>\n      <td>-0.159731</td>\n      <td>0.186899</td>\n      <td>-0.261234</td>\n      <td>0.406501</td>\n      <td>-0.490650</td>\n      <td>-0.490650</td>\n    </tr>\n    <tr>\n      <th>Number of Donations</th>\n      <td>0.063148</td>\n      <td>-0.159731</td>\n      <td>1.000000</td>\n      <td>1.000000</td>\n      <td>0.622116</td>\n      <td>0.220615</td>\n      <td>-0.529093</td>\n      <td>0.218207</td>\n      <td>0.218207</td>\n    </tr>\n    <tr>\n      <th>Total Volume Donated (c.c.)</th>\n      <td>0.063148</td>\n      <td>-0.159731</td>\n      <td>1.000000</td>\n      <td>1.000000</td>\n      <td>0.622116</td>\n      <td>0.220615</td>\n      <td>-0.529093</td>\n      <td>0.218207</td>\n      <td>0.218207</td>\n    </tr>\n    <tr>\n      <th>Months since First Donation</th>\n      <td>0.098370</td>\n      <td>0.186899</td>\n      <td>0.622116</td>\n      <td>0.622116</td>\n      <td>1.000000</td>\n      <td>-0.019819</td>\n      <td>-0.609268</td>\n      <td>-0.355318</td>\n      <td>-0.355318</td>\n    </tr>\n    <tr>\n      <th>Made Donation in March 2007</th>\n      <td>0.041925</td>\n      <td>-0.261234</td>\n      <td>0.220615</td>\n      <td>0.220615</td>\n      <td>-0.019819</td>\n      <td>1.000000</td>\n      <td>-0.214827</td>\n      <td>0.240273</td>\n      <td>0.240273</td>\n    </tr>\n    <tr>\n      <th>Ratio</th>\n      <td>-0.096066</td>\n      <td>0.406501</td>\n      <td>-0.529093</td>\n      <td>-0.529093</td>\n      <td>-0.609268</td>\n      <td>-0.214827</td>\n      <td>1.000000</td>\n      <td>0.073899</td>\n      <td>0.073899</td>\n    </tr>\n    <tr>\n      <th>per_month</th>\n      <td>-0.013313</td>\n      <td>-0.490650</td>\n      <td>0.218207</td>\n      <td>0.218207</td>\n      <td>-0.355318</td>\n      <td>0.240273</td>\n      <td>0.073899</td>\n      <td>1.000000</td>\n      <td>1.000000</td>\n    </tr>\n    <tr>\n      <th>avg_don</th>\n      <td>-0.013313</td>\n      <td>-0.490650</td>\n      <td>0.218207</td>\n      <td>0.218207</td>\n      <td>-0.355318</td>\n      <td>0.240273</td>\n      <td>0.073899</td>\n      <td>1.000000</td>\n      <td>1.000000</td>\n    </tr>\n  </tbody>\n</table>\n</div>", 
                        "text/plain": "                             Unnamed: 0  Months since Last Donation  \\\nUnnamed: 0                     1.000000                   -0.023217   \nMonths since Last Donation    -0.023217                    1.000000   \nNumber of Donations            0.063148                   -0.159731   \nTotal Volume Donated (c.c.)    0.063148                   -0.159731   \nMonths since First Donation    0.098370                    0.186899   \nMade Donation in March 2007    0.041925                   -0.261234   \nRatio                         -0.096066                    0.406501   \nper_month                     -0.013313                   -0.490650   \navg_don                       -0.013313                   -0.490650   \n\n                             Number of Donations  Total Volume Donated (c.c.)  \\\nUnnamed: 0                              0.063148                     0.063148   \nMonths since Last Donation             -0.159731                    -0.159731   \nNumber of Donations                     1.000000                     1.000000   \nTotal Volume Donated (c.c.)             1.000000                     1.000000   \nMonths since First Donation             0.622116                     0.622116   \nMade Donation in March 2007             0.220615                     0.220615   \nRatio                                  -0.529093                    -0.529093   \nper_month                               0.218207                     0.218207   \navg_don                                 0.218207                     0.218207   \n\n                             Months since First Donation  \\\nUnnamed: 0                                      0.098370   \nMonths since Last Donation                      0.186899   \nNumber of Donations                             0.622116   \nTotal Volume Donated (c.c.)                     0.622116   \nMonths since First Donation                     1.000000   \nMade Donation in March 2007                    -0.019819   \nRatio                                          -0.609268   \nper_month                                      -0.355318   \navg_don                                        -0.355318   \n\n                             Made Donation in March 2007     Ratio  per_month  \\\nUnnamed: 0                                      0.041925 -0.096066  -0.013313   \nMonths since Last Donation                     -0.261234  0.406501  -0.490650   \nNumber of Donations                             0.220615 -0.529093   0.218207   \nTotal Volume Donated (c.c.)                     0.220615 -0.529093   0.218207   \nMonths since First Donation                    -0.019819 -0.609268  -0.355318   \nMade Donation in March 2007                     1.000000 -0.214827   0.240273   \nRatio                                          -0.214827  1.000000   0.073899   \nper_month                                       0.240273  0.073899   1.000000   \navg_don                                         0.240273  0.073899   1.000000   \n\n                              avg_don  \nUnnamed: 0                  -0.013313  \nMonths since Last Donation  -0.490650  \nNumber of Donations          0.218207  \nTotal Volume Donated (c.c.)  0.218207  \nMonths since First Donation -0.355318  \nMade Donation in March 2007  0.240273  \nRatio                        0.073899  \nper_month                    1.000000  \navg_don                      1.000000  "
                    }, 
                    "output_type": "execute_result"
                }
            ], 
            "source": "df_train.corr()"
        }, 
        {
            "execution_count": null, 
            "cell_type": "code", 
            "metadata": {}, 
            "outputs": [], 
            "source": ""
        }, 
        {
            "execution_count": 18, 
            "cell_type": "code", 
            "metadata": {}, 
            "outputs": [
                {
                    "execution_count": 18, 
                    "metadata": {}, 
                    "data": {
                        "text/html": "<div>\n<style scoped>\n    .dataframe tbody tr th:only-of-type {\n        vertical-align: middle;\n    }\n\n    .dataframe tbody tr th {\n        vertical-align: top;\n    }\n\n    .dataframe thead th {\n        text-align: right;\n    }\n</style>\n<table border=\"1\" class=\"dataframe\">\n  <thead>\n    <tr style=\"text-align: right;\">\n      <th></th>\n      <th>Unnamed: 0</th>\n      <th>Months since Last Donation</th>\n      <th>Number of Donations</th>\n      <th>Total Volume Donated (c.c.)</th>\n      <th>Months since First Donation</th>\n      <th>Made Donation in March 2007</th>\n      <th>Ratio</th>\n      <th>per_month</th>\n      <th>avg_don</th>\n    </tr>\n  </thead>\n  <tbody>\n    <tr>\n      <th>0</th>\n      <td>619</td>\n      <td>2</td>\n      <td>50</td>\n      <td>12500</td>\n      <td>98</td>\n      <td>1</td>\n      <td>0.020408</td>\n      <td>0.510204</td>\n      <td>127.551020</td>\n    </tr>\n    <tr>\n      <th>1</th>\n      <td>664</td>\n      <td>0</td>\n      <td>13</td>\n      <td>3250</td>\n      <td>28</td>\n      <td>1</td>\n      <td>0.000000</td>\n      <td>0.464286</td>\n      <td>116.071429</td>\n    </tr>\n    <tr>\n      <th>2</th>\n      <td>441</td>\n      <td>1</td>\n      <td>16</td>\n      <td>4000</td>\n      <td>35</td>\n      <td>1</td>\n      <td>0.028571</td>\n      <td>0.457143</td>\n      <td>114.285714</td>\n    </tr>\n    <tr>\n      <th>3</th>\n      <td>160</td>\n      <td>2</td>\n      <td>20</td>\n      <td>5000</td>\n      <td>45</td>\n      <td>1</td>\n      <td>0.044444</td>\n      <td>0.444444</td>\n      <td>111.111111</td>\n    </tr>\n    <tr>\n      <th>4</th>\n      <td>358</td>\n      <td>1</td>\n      <td>24</td>\n      <td>6000</td>\n      <td>77</td>\n      <td>0</td>\n      <td>0.012987</td>\n      <td>0.311688</td>\n      <td>77.922078</td>\n    </tr>\n  </tbody>\n</table>\n</div>", 
                        "text/plain": "   Unnamed: 0  Months since Last Donation  Number of Donations  \\\n0         619                           2                   50   \n1         664                           0                   13   \n2         441                           1                   16   \n3         160                           2                   20   \n4         358                           1                   24   \n\n   Total Volume Donated (c.c.)  Months since First Donation  \\\n0                        12500                           98   \n1                         3250                           28   \n2                         4000                           35   \n3                         5000                           45   \n4                         6000                           77   \n\n   Made Donation in March 2007     Ratio  per_month     avg_don  \n0                            1  0.020408   0.510204  127.551020  \n1                            1  0.000000   0.464286  116.071429  \n2                            1  0.028571   0.457143  114.285714  \n3                            1  0.044444   0.444444  111.111111  \n4                            0  0.012987   0.311688   77.922078  "
                    }, 
                    "output_type": "execute_result"
                }
            ], 
            "source": "df_train.head()"
        }, 
        {
            "execution_count": 19, 
            "cell_type": "code", 
            "metadata": {}, 
            "outputs": [
                {
                    "execution_count": 19, 
                    "metadata": {}, 
                    "data": {
                        "text/html": "<div>\n<style scoped>\n    .dataframe tbody tr th:only-of-type {\n        vertical-align: middle;\n    }\n\n    .dataframe tbody tr th {\n        vertical-align: top;\n    }\n\n    .dataframe thead th {\n        text-align: right;\n    }\n</style>\n<table border=\"1\" class=\"dataframe\">\n  <thead>\n    <tr style=\"text-align: right;\">\n      <th></th>\n      <th>Unnamed: 0</th>\n      <th>Months since Last Donation</th>\n      <th>Number of Donations</th>\n      <th>Total Volume Donated (c.c.)</th>\n      <th>Months since First Donation</th>\n      <th>Made Donation in March 2007</th>\n      <th>Ratio</th>\n      <th>per_month</th>\n      <th>avg_don</th>\n    </tr>\n  </thead>\n  <tbody>\n    <tr>\n      <th>Unnamed: 0</th>\n      <td>1.000000</td>\n      <td>-0.023217</td>\n      <td>0.063148</td>\n      <td>0.063148</td>\n      <td>0.098370</td>\n      <td>0.041925</td>\n      <td>-0.096066</td>\n      <td>-0.013313</td>\n      <td>-0.013313</td>\n    </tr>\n    <tr>\n      <th>Months since Last Donation</th>\n      <td>-0.023217</td>\n      <td>1.000000</td>\n      <td>-0.159731</td>\n      <td>-0.159731</td>\n      <td>0.186899</td>\n      <td>-0.261234</td>\n      <td>0.406501</td>\n      <td>-0.490650</td>\n      <td>-0.490650</td>\n    </tr>\n    <tr>\n      <th>Number of Donations</th>\n      <td>0.063148</td>\n      <td>-0.159731</td>\n      <td>1.000000</td>\n      <td>1.000000</td>\n      <td>0.622116</td>\n      <td>0.220615</td>\n      <td>-0.529093</td>\n      <td>0.218207</td>\n      <td>0.218207</td>\n    </tr>\n    <tr>\n      <th>Total Volume Donated (c.c.)</th>\n      <td>0.063148</td>\n      <td>-0.159731</td>\n      <td>1.000000</td>\n      <td>1.000000</td>\n      <td>0.622116</td>\n      <td>0.220615</td>\n      <td>-0.529093</td>\n      <td>0.218207</td>\n      <td>0.218207</td>\n    </tr>\n    <tr>\n      <th>Months since First Donation</th>\n      <td>0.098370</td>\n      <td>0.186899</td>\n      <td>0.622116</td>\n      <td>0.622116</td>\n      <td>1.000000</td>\n      <td>-0.019819</td>\n      <td>-0.609268</td>\n      <td>-0.355318</td>\n      <td>-0.355318</td>\n    </tr>\n    <tr>\n      <th>Made Donation in March 2007</th>\n      <td>0.041925</td>\n      <td>-0.261234</td>\n      <td>0.220615</td>\n      <td>0.220615</td>\n      <td>-0.019819</td>\n      <td>1.000000</td>\n      <td>-0.214827</td>\n      <td>0.240273</td>\n      <td>0.240273</td>\n    </tr>\n    <tr>\n      <th>Ratio</th>\n      <td>-0.096066</td>\n      <td>0.406501</td>\n      <td>-0.529093</td>\n      <td>-0.529093</td>\n      <td>-0.609268</td>\n      <td>-0.214827</td>\n      <td>1.000000</td>\n      <td>0.073899</td>\n      <td>0.073899</td>\n    </tr>\n    <tr>\n      <th>per_month</th>\n      <td>-0.013313</td>\n      <td>-0.490650</td>\n      <td>0.218207</td>\n      <td>0.218207</td>\n      <td>-0.355318</td>\n      <td>0.240273</td>\n      <td>0.073899</td>\n      <td>1.000000</td>\n      <td>1.000000</td>\n    </tr>\n    <tr>\n      <th>avg_don</th>\n      <td>-0.013313</td>\n      <td>-0.490650</td>\n      <td>0.218207</td>\n      <td>0.218207</td>\n      <td>-0.355318</td>\n      <td>0.240273</td>\n      <td>0.073899</td>\n      <td>1.000000</td>\n      <td>1.000000</td>\n    </tr>\n  </tbody>\n</table>\n</div>", 
                        "text/plain": "                             Unnamed: 0  Months since Last Donation  \\\nUnnamed: 0                     1.000000                   -0.023217   \nMonths since Last Donation    -0.023217                    1.000000   \nNumber of Donations            0.063148                   -0.159731   \nTotal Volume Donated (c.c.)    0.063148                   -0.159731   \nMonths since First Donation    0.098370                    0.186899   \nMade Donation in March 2007    0.041925                   -0.261234   \nRatio                         -0.096066                    0.406501   \nper_month                     -0.013313                   -0.490650   \navg_don                       -0.013313                   -0.490650   \n\n                             Number of Donations  Total Volume Donated (c.c.)  \\\nUnnamed: 0                              0.063148                     0.063148   \nMonths since Last Donation             -0.159731                    -0.159731   \nNumber of Donations                     1.000000                     1.000000   \nTotal Volume Donated (c.c.)             1.000000                     1.000000   \nMonths since First Donation             0.622116                     0.622116   \nMade Donation in March 2007             0.220615                     0.220615   \nRatio                                  -0.529093                    -0.529093   \nper_month                               0.218207                     0.218207   \navg_don                                 0.218207                     0.218207   \n\n                             Months since First Donation  \\\nUnnamed: 0                                      0.098370   \nMonths since Last Donation                      0.186899   \nNumber of Donations                             0.622116   \nTotal Volume Donated (c.c.)                     0.622116   \nMonths since First Donation                     1.000000   \nMade Donation in March 2007                    -0.019819   \nRatio                                          -0.609268   \nper_month                                      -0.355318   \navg_don                                        -0.355318   \n\n                             Made Donation in March 2007     Ratio  per_month  \\\nUnnamed: 0                                      0.041925 -0.096066  -0.013313   \nMonths since Last Donation                     -0.261234  0.406501  -0.490650   \nNumber of Donations                             0.220615 -0.529093   0.218207   \nTotal Volume Donated (c.c.)                     0.220615 -0.529093   0.218207   \nMonths since First Donation                    -0.019819 -0.609268  -0.355318   \nMade Donation in March 2007                     1.000000 -0.214827   0.240273   \nRatio                                          -0.214827  1.000000   0.073899   \nper_month                                       0.240273  0.073899   1.000000   \navg_don                                         0.240273  0.073899   1.000000   \n\n                              avg_don  \nUnnamed: 0                  -0.013313  \nMonths since Last Donation  -0.490650  \nNumber of Donations          0.218207  \nTotal Volume Donated (c.c.)  0.218207  \nMonths since First Donation -0.355318  \nMade Donation in March 2007  0.240273  \nRatio                        0.073899  \nper_month                    1.000000  \navg_don                      1.000000  "
                    }, 
                    "output_type": "execute_result"
                }
            ], 
            "source": "df_train.corr()"
        }, 
        {
            "execution_count": 20, 
            "cell_type": "code", 
            "metadata": {}, 
            "outputs": [
                {
                    "execution_count": 20, 
                    "metadata": {}, 
                    "data": {
                        "text/plain": "Index(['Unnamed: 0', 'Months since Last Donation', 'Number of Donations',\n       'Total Volume Donated (c.c.)', 'Months since First Donation',\n       'Made Donation in March 2007', 'Ratio', 'per_month', 'avg_don'],\n      dtype='object')"
                    }, 
                    "output_type": "execute_result"
                }
            ], 
            "source": "df_train.columns"
        }, 
        {
            "execution_count": 113, 
            "cell_type": "code", 
            "metadata": {}, 
            "outputs": [], 
            "source": "x=df_train[['Months since Last Donation', 'Number of Donations',\n        'Months since First Donation',\n         'per_month', 'avg_don'\n        ]].values"
        }, 
        {
            "execution_count": 114, 
            "cell_type": "code", 
            "metadata": {}, 
            "outputs": [], 
            "source": "y=df_train['Made Donation in March 2007'].values"
        }, 
        {
            "execution_count": 115, 
            "cell_type": "code", 
            "metadata": {}, 
            "outputs": [], 
            "source": "x=preprocessing.StandardScaler().fit(x).transform(x)"
        }, 
        {
            "source": "#### Split Your Dataset", 
            "cell_type": "markdown", 
            "metadata": {}
        }, 
        {
            "execution_count": 116, 
            "cell_type": "code", 
            "metadata": {}, 
            "outputs": [
                {
                    "output_type": "stream", 
                    "name": "stdout", 
                    "text": "Train: [ 58  59  60  61  62  63  64  65  66  67  68  69  70  71  72  73  74  75\n  76  77  78  79  80  81  82  83  84  85  86  87  88  89  90  91  92  93\n  94  95  96  97  98  99 100 101 102 103 104 105 106 107 108 109 110 111\n 112 113 114 115 116 117 118 119 120 121 122 123 124 125 126 127 128 129\n 130 131 132 133 134 135 136 137 138 139 140 141 142 143 144 145 146 147\n 148 149 150 151 152 153 154 155 156 157 158 159 160 161 162 163 164 165\n 166 167 168 169 170 171 172 173 174 175 176 177 178 179 180 181 182 183\n 184 185 186 187 188 189 190 191 192 193 194 195 196 197 198 199 200 201\n 202 203 204 205 206 207 208 209 210 211 212 213 214 215 216 217 218 219\n 220 221 222 223 224 225 226 227 228 229 230 231 232 233 234 235 236 237\n 238 239 240 241 242 243 244 245 246 247 248 249 250 251 252 253 254 255\n 256 257 258 259 260 261 262 263 264 265 266 267 268 269 270 271 272 273\n 274 275 276 277 278 279 280 281 282 283 284 285 286 287 288 289 290 291\n 292 293 294 295 296 297 298 299 300 301 302 303 304 305 306 307 308 309\n 310 311 312 313 314 315 316 317 318 319 320 321 322 323 324 325 326 327\n 328 329 330 331 332 333 334 335 336 337 338 339 340 341 342 343 344 345\n 346 347 348 349 350 351 352 353 354 355 356 357 358 359 360 361 362 363\n 364 365 366 367 368 369 370 371 372 373 374 375 376 377 378 379 380 381\n 382 383 384 385 386 387 388 389 390 391 392 393 394 395 396 397 398 399\n 400 401 402 403 404 405 406 407 408 409 410 411 412 413 414 415 416 417\n 418 419 420 421 422 423 424 425 426 427 428 429 430 431 432 433 434 435\n 436 437 438 439 440 441 442 443 444 445 446 447 448 449 450 451 452 453\n 454 455 456 457 458 459 460 461 462 463 464 465 466 467 468 469 470 471\n 472 473 474 475 476 477 478 479 480 481 482 483 484 485 486 487 488 489\n 490 491 492 493 494 495 496 497 498 499 500 501 502 503 504 505 506 507\n 508 509 510 511 512 513 514 515 516 517 518 519 520 521 522 523 524 525\n 526 527 528 529 530 531 532 533 534 535 536 537 538 539 540 541 542 543\n 544 545 546 547 548 549 550 551 552 553 554 555 556 557 558 559 560 561\n 562 563 564 565 566 567 568 569 570 571 572 573 574 575] Validation: [ 0  1  2  3  4  5  6  7  8  9 10 11 12 13 14 15 16 17 18 19 20 21 22 23 24\n 25 26 27 28 29 30 31 32 33 34 35 36 37 38 39 40 41 42 43 44 45 46 47 48 49\n 50 51 52 53 54 55 56 57]\nTrain: [  0   1   2   3   4   5   6   7   8   9  10  11  12  13  14  15  16  17\n  18  19  20  21  22  23  24  25  26  27  28  29  30  31  32  33  34  35\n  36  37  38  39  40  41  42  43  44  45  46  47  48  49  50  51  52  53\n  54  55  56  57 116 117 118 119 120 121 122 123 124 125 126 127 128 129\n 130 131 132 133 134 135 136 137 138 139 140 141 142 143 144 145 146 147\n 148 149 150 151 152 153 154 155 156 157 158 159 160 161 162 163 164 165\n 166 167 168 169 170 171 172 173 174 175 176 177 178 179 180 181 182 183\n 184 185 186 187 188 189 190 191 192 193 194 195 196 197 198 199 200 201\n 202 203 204 205 206 207 208 209 210 211 212 213 214 215 216 217 218 219\n 220 221 222 223 224 225 226 227 228 229 230 231 232 233 234 235 236 237\n 238 239 240 241 242 243 244 245 246 247 248 249 250 251 252 253 254 255\n 256 257 258 259 260 261 262 263 264 265 266 267 268 269 270 271 272 273\n 274 275 276 277 278 279 280 281 282 283 284 285 286 287 288 289 290 291\n 292 293 294 295 296 297 298 299 300 301 302 303 304 305 306 307 308 309\n 310 311 312 313 314 315 316 317 318 319 320 321 322 323 324 325 326 327\n 328 329 330 331 332 333 334 335 336 337 338 339 340 341 342 343 344 345\n 346 347 348 349 350 351 352 353 354 355 356 357 358 359 360 361 362 363\n 364 365 366 367 368 369 370 371 372 373 374 375 376 377 378 379 380 381\n 382 383 384 385 386 387 388 389 390 391 392 393 394 395 396 397 398 399\n 400 401 402 403 404 405 406 407 408 409 410 411 412 413 414 415 416 417\n 418 419 420 421 422 423 424 425 426 427 428 429 430 431 432 433 434 435\n 436 437 438 439 440 441 442 443 444 445 446 447 448 449 450 451 452 453\n 454 455 456 457 458 459 460 461 462 463 464 465 466 467 468 469 470 471\n 472 473 474 475 476 477 478 479 480 481 482 483 484 485 486 487 488 489\n 490 491 492 493 494 495 496 497 498 499 500 501 502 503 504 505 506 507\n 508 509 510 511 512 513 514 515 516 517 518 519 520 521 522 523 524 525\n 526 527 528 529 530 531 532 533 534 535 536 537 538 539 540 541 542 543\n 544 545 546 547 548 549 550 551 552 553 554 555 556 557 558 559 560 561\n 562 563 564 565 566 567 568 569 570 571 572 573 574 575] Validation: [ 58  59  60  61  62  63  64  65  66  67  68  69  70  71  72  73  74  75\n  76  77  78  79  80  81  82  83  84  85  86  87  88  89  90  91  92  93\n  94  95  96  97  98  99 100 101 102 103 104 105 106 107 108 109 110 111\n 112 113 114 115]\nTrain: [  0   1   2   3   4   5   6   7   8   9  10  11  12  13  14  15  16  17\n  18  19  20  21  22  23  24  25  26  27  28  29  30  31  32  33  34  35\n  36  37  38  39  40  41  42  43  44  45  46  47  48  49  50  51  52  53\n  54  55  56  57  58  59  60  61  62  63  64  65  66  67  68  69  70  71\n  72  73  74  75  76  77  78  79  80  81  82  83  84  85  86  87  88  89\n  90  91  92  93  94  95  96  97  98  99 100 101 102 103 104 105 106 107\n 108 109 110 111 112 113 114 115 174 175 176 177 178 179 180 181 182 183\n 184 185 186 187 188 189 190 191 192 193 194 195 196 197 198 199 200 201\n 202 203 204 205 206 207 208 209 210 211 212 213 214 215 216 217 218 219\n 220 221 222 223 224 225 226 227 228 229 230 231 232 233 234 235 236 237\n 238 239 240 241 242 243 244 245 246 247 248 249 250 251 252 253 254 255\n 256 257 258 259 260 261 262 263 264 265 266 267 268 269 270 271 272 273\n 274 275 276 277 278 279 280 281 282 283 284 285 286 287 288 289 290 291\n 292 293 294 295 296 297 298 299 300 301 302 303 304 305 306 307 308 309\n 310 311 312 313 314 315 316 317 318 319 320 321 322 323 324 325 326 327\n 328 329 330 331 332 333 334 335 336 337 338 339 340 341 342 343 344 345\n 346 347 348 349 350 351 352 353 354 355 356 357 358 359 360 361 362 363\n 364 365 366 367 368 369 370 371 372 373 374 375 376 377 378 379 380 381\n 382 383 384 385 386 387 388 389 390 391 392 393 394 395 396 397 398 399\n 400 401 402 403 404 405 406 407 408 409 410 411 412 413 414 415 416 417\n 418 419 420 421 422 423 424 425 426 427 428 429 430 431 432 433 434 435\n 436 437 438 439 440 441 442 443 444 445 446 447 448 449 450 451 452 453\n 454 455 456 457 458 459 460 461 462 463 464 465 466 467 468 469 470 471\n 472 473 474 475 476 477 478 479 480 481 482 483 484 485 486 487 488 489\n 490 491 492 493 494 495 496 497 498 499 500 501 502 503 504 505 506 507\n 508 509 510 511 512 513 514 515 516 517 518 519 520 521 522 523 524 525\n 526 527 528 529 530 531 532 533 534 535 536 537 538 539 540 541 542 543\n 544 545 546 547 548 549 550 551 552 553 554 555 556 557 558 559 560 561\n 562 563 564 565 566 567 568 569 570 571 572 573 574 575] Validation: [116 117 118 119 120 121 122 123 124 125 126 127 128 129 130 131 132 133\n 134 135 136 137 138 139 140 141 142 143 144 145 146 147 148 149 150 151\n 152 153 154 155 156 157 158 159 160 161 162 163 164 165 166 167 168 169\n 170 171 172 173]\nTrain: [  0   1   2   3   4   5   6   7   8   9  10  11  12  13  14  15  16  17\n  18  19  20  21  22  23  24  25  26  27  28  29  30  31  32  33  34  35\n  36  37  38  39  40  41  42  43  44  45  46  47  48  49  50  51  52  53\n  54  55  56  57  58  59  60  61  62  63  64  65  66  67  68  69  70  71\n  72  73  74  75  76  77  78  79  80  81  82  83  84  85  86  87  88  89\n  90  91  92  93  94  95  96  97  98  99 100 101 102 103 104 105 106 107\n 108 109 110 111 112 113 114 115 116 117 118 119 120 121 122 123 124 125\n 126 127 128 129 130 131 132 133 134 135 136 137 138 139 140 141 142 143\n 144 145 146 147 148 149 150 151 152 153 154 155 156 157 158 159 160 161\n 162 163 164 165 166 167 168 169 170 171 172 173 232 233 234 235 236 237\n 238 239 240 241 242 243 244 245 246 247 248 249 250 251 252 253 254 255\n 256 257 258 259 260 261 262 263 264 265 266 267 268 269 270 271 272 273\n 274 275 276 277 278 279 280 281 282 283 284 285 286 287 288 289 290 291\n 292 293 294 295 296 297 298 299 300 301 302 303 304 305 306 307 308 309\n 310 311 312 313 314 315 316 317 318 319 320 321 322 323 324 325 326 327\n 328 329 330 331 332 333 334 335 336 337 338 339 340 341 342 343 344 345\n 346 347 348 349 350 351 352 353 354 355 356 357 358 359 360 361 362 363\n 364 365 366 367 368 369 370 371 372 373 374 375 376 377 378 379 380 381\n 382 383 384 385 386 387 388 389 390 391 392 393 394 395 396 397 398 399\n 400 401 402 403 404 405 406 407 408 409 410 411 412 413 414 415 416 417\n 418 419 420 421 422 423 424 425 426 427 428 429 430 431 432 433 434 435\n 436 437 438 439 440 441 442 443 444 445 446 447 448 449 450 451 452 453\n 454 455 456 457 458 459 460 461 462 463 464 465 466 467 468 469 470 471\n 472 473 474 475 476 477 478 479 480 481 482 483 484 485 486 487 488 489\n 490 491 492 493 494 495 496 497 498 499 500 501 502 503 504 505 506 507\n 508 509 510 511 512 513 514 515 516 517 518 519 520 521 522 523 524 525\n 526 527 528 529 530 531 532 533 534 535 536 537 538 539 540 541 542 543\n 544 545 546 547 548 549 550 551 552 553 554 555 556 557 558 559 560 561\n 562 563 564 565 566 567 568 569 570 571 572 573 574 575] Validation: [174 175 176 177 178 179 180 181 182 183 184 185 186 187 188 189 190 191\n 192 193 194 195 196 197 198 199 200 201 202 203 204 205 206 207 208 209\n 210 211 212 213 214 215 216 217 218 219 220 221 222 223 224 225 226 227\n 228 229 230 231]\nTrain: [  0   1   2   3   4   5   6   7   8   9  10  11  12  13  14  15  16  17\n  18  19  20  21  22  23  24  25  26  27  28  29  30  31  32  33  34  35\n  36  37  38  39  40  41  42  43  44  45  46  47  48  49  50  51  52  53\n  54  55  56  57  58  59  60  61  62  63  64  65  66  67  68  69  70  71\n  72  73  74  75  76  77  78  79  80  81  82  83  84  85  86  87  88  89\n  90  91  92  93  94  95  96  97  98  99 100 101 102 103 104 105 106 107\n 108 109 110 111 112 113 114 115 116 117 118 119 120 121 122 123 124 125\n 126 127 128 129 130 131 132 133 134 135 136 137 138 139 140 141 142 143\n 144 145 146 147 148 149 150 151 152 153 154 155 156 157 158 159 160 161\n 162 163 164 165 166 167 168 169 170 171 172 173 174 175 176 177 178 179\n 180 181 182 183 184 185 186 187 188 189 190 191 192 193 194 195 196 197\n 198 199 200 201 202 203 204 205 206 207 208 209 210 211 212 213 214 215\n 216 217 218 219 220 221 222 223 224 225 226 227 228 229 230 231 290 291\n 292 293 294 295 296 297 298 299 300 301 302 303 304 305 306 307 308 309\n 310 311 312 313 314 315 316 317 318 319 320 321 322 323 324 325 326 327\n 328 329 330 331 332 333 334 335 336 337 338 339 340 341 342 343 344 345\n 346 347 348 349 350 351 352 353 354 355 356 357 358 359 360 361 362 363\n 364 365 366 367 368 369 370 371 372 373 374 375 376 377 378 379 380 381\n 382 383 384 385 386 387 388 389 390 391 392 393 394 395 396 397 398 399\n 400 401 402 403 404 405 406 407 408 409 410 411 412 413 414 415 416 417\n 418 419 420 421 422 423 424 425 426 427 428 429 430 431 432 433 434 435\n 436 437 438 439 440 441 442 443 444 445 446 447 448 449 450 451 452 453\n 454 455 456 457 458 459 460 461 462 463 464 465 466 467 468 469 470 471\n 472 473 474 475 476 477 478 479 480 481 482 483 484 485 486 487 488 489\n 490 491 492 493 494 495 496 497 498 499 500 501 502 503 504 505 506 507\n 508 509 510 511 512 513 514 515 516 517 518 519 520 521 522 523 524 525\n 526 527 528 529 530 531 532 533 534 535 536 537 538 539 540 541 542 543\n 544 545 546 547 548 549 550 551 552 553 554 555 556 557 558 559 560 561\n 562 563 564 565 566 567 568 569 570 571 572 573 574 575] Validation: [232 233 234 235 236 237 238 239 240 241 242 243 244 245 246 247 248 249\n 250 251 252 253 254 255 256 257 258 259 260 261 262 263 264 265 266 267\n 268 269 270 271 272 273 274 275 276 277 278 279 280 281 282 283 284 285\n 286 287 288 289]\nTrain: [  0   1   2   3   4   5   6   7   8   9  10  11  12  13  14  15  16  17\n  18  19  20  21  22  23  24  25  26  27  28  29  30  31  32  33  34  35\n  36  37  38  39  40  41  42  43  44  45  46  47  48  49  50  51  52  53\n  54  55  56  57  58  59  60  61  62  63  64  65  66  67  68  69  70  71\n  72  73  74  75  76  77  78  79  80  81  82  83  84  85  86  87  88  89\n  90  91  92  93  94  95  96  97  98  99 100 101 102 103 104 105 106 107\n 108 109 110 111 112 113 114 115 116 117 118 119 120 121 122 123 124 125\n 126 127 128 129 130 131 132 133 134 135 136 137 138 139 140 141 142 143\n 144 145 146 147 148 149 150 151 152 153 154 155 156 157 158 159 160 161\n 162 163 164 165 166 167 168 169 170 171 172 173 174 175 176 177 178 179\n 180 181 182 183 184 185 186 187 188 189 190 191 192 193 194 195 196 197\n 198 199 200 201 202 203 204 205 206 207 208 209 210 211 212 213 214 215\n 216 217 218 219 220 221 222 223 224 225 226 227 228 229 230 231 232 233\n 234 235 236 237 238 239 240 241 242 243 244 245 246 247 248 249 250 251\n 252 253 254 255 256 257 258 259 260 261 262 263 264 265 266 267 268 269\n 270 271 272 273 274 275 276 277 278 279 280 281 282 283 284 285 286 287\n 288 289 348 349 350 351 352 353 354 355 356 357 358 359 360 361 362 363\n 364 365 366 367 368 369 370 371 372 373 374 375 376 377 378 379 380 381\n 382 383 384 385 386 387 388 389 390 391 392 393 394 395 396 397 398 399\n 400 401 402 403 404 405 406 407 408 409 410 411 412 413 414 415 416 417\n 418 419 420 421 422 423 424 425 426 427 428 429 430 431 432 433 434 435\n 436 437 438 439 440 441 442 443 444 445 446 447 448 449 450 451 452 453\n 454 455 456 457 458 459 460 461 462 463 464 465 466 467 468 469 470 471\n 472 473 474 475 476 477 478 479 480 481 482 483 484 485 486 487 488 489\n 490 491 492 493 494 495 496 497 498 499 500 501 502 503 504 505 506 507\n 508 509 510 511 512 513 514 515 516 517 518 519 520 521 522 523 524 525\n 526 527 528 529 530 531 532 533 534 535 536 537 538 539 540 541 542 543\n 544 545 546 547 548 549 550 551 552 553 554 555 556 557 558 559 560 561\n 562 563 564 565 566 567 568 569 570 571 572 573 574 575] Validation: [290 291 292 293 294 295 296 297 298 299 300 301 302 303 304 305 306 307\n 308 309 310 311 312 313 314 315 316 317 318 319 320 321 322 323 324 325\n 326 327 328 329 330 331 332 333 334 335 336 337 338 339 340 341 342 343\n 344 345 346 347]\nTrain: [  0   1   2   3   4   5   6   7   8   9  10  11  12  13  14  15  16  17\n  18  19  20  21  22  23  24  25  26  27  28  29  30  31  32  33  34  35\n  36  37  38  39  40  41  42  43  44  45  46  47  48  49  50  51  52  53\n  54  55  56  57  58  59  60  61  62  63  64  65  66  67  68  69  70  71\n  72  73  74  75  76  77  78  79  80  81  82  83  84  85  86  87  88  89\n  90  91  92  93  94  95  96  97  98  99 100 101 102 103 104 105 106 107\n 108 109 110 111 112 113 114 115 116 117 118 119 120 121 122 123 124 125\n 126 127 128 129 130 131 132 133 134 135 136 137 138 139 140 141 142 143\n 144 145 146 147 148 149 150 151 152 153 154 155 156 157 158 159 160 161\n 162 163 164 165 166 167 168 169 170 171 172 173 174 175 176 177 178 179\n 180 181 182 183 184 185 186 187 188 189 190 191 192 193 194 195 196 197\n 198 199 200 201 202 203 204 205 206 207 208 209 210 211 212 213 214 215\n 216 217 218 219 220 221 222 223 224 225 226 227 228 229 230 231 232 233\n 234 235 236 237 238 239 240 241 242 243 244 245 246 247 248 249 250 251\n 252 253 254 255 256 257 258 259 260 261 262 263 264 265 266 267 268 269\n 270 271 272 273 274 275 276 277 278 279 280 281 282 283 284 285 286 287\n 288 289 290 291 292 293 294 295 296 297 298 299 300 301 302 303 304 305\n 306 307 308 309 310 311 312 313 314 315 316 317 318 319 320 321 322 323\n 324 325 326 327 328 329 330 331 332 333 334 335 336 337 338 339 340 341\n 342 343 344 345 346 347 405 406 407 408 409 410 411 412 413 414 415 416\n 417 418 419 420 421 422 423 424 425 426 427 428 429 430 431 432 433 434\n 435 436 437 438 439 440 441 442 443 444 445 446 447 448 449 450 451 452\n 453 454 455 456 457 458 459 460 461 462 463 464 465 466 467 468 469 470\n 471 472 473 474 475 476 477 478 479 480 481 482 483 484 485 486 487 488\n 489 490 491 492 493 494 495 496 497 498 499 500 501 502 503 504 505 506\n 507 508 509 510 511 512 513 514 515 516 517 518 519 520 521 522 523 524\n 525 526 527 528 529 530 531 532 533 534 535 536 537 538 539 540 541 542\n 543 544 545 546 547 548 549 550 551 552 553 554 555 556 557 558 559 560\n 561 562 563 564 565 566 567 568 569 570 571 572 573 574 575] Validation: [348 349 350 351 352 353 354 355 356 357 358 359 360 361 362 363 364 365\n 366 367 368 369 370 371 372 373 374 375 376 377 378 379 380 381 382 383\n 384 385 386 387 388 389 390 391 392 393 394 395 396 397 398 399 400 401\n 402 403 404]\nTrain: [  0   1   2   3   4   5   6   7   8   9  10  11  12  13  14  15  16  17\n  18  19  20  21  22  23  24  25  26  27  28  29  30  31  32  33  34  35\n  36  37  38  39  40  41  42  43  44  45  46  47  48  49  50  51  52  53\n  54  55  56  57  58  59  60  61  62  63  64  65  66  67  68  69  70  71\n  72  73  74  75  76  77  78  79  80  81  82  83  84  85  86  87  88  89\n  90  91  92  93  94  95  96  97  98  99 100 101 102 103 104 105 106 107\n 108 109 110 111 112 113 114 115 116 117 118 119 120 121 122 123 124 125\n 126 127 128 129 130 131 132 133 134 135 136 137 138 139 140 141 142 143\n 144 145 146 147 148 149 150 151 152 153 154 155 156 157 158 159 160 161\n 162 163 164 165 166 167 168 169 170 171 172 173 174 175 176 177 178 179\n 180 181 182 183 184 185 186 187 188 189 190 191 192 193 194 195 196 197\n 198 199 200 201 202 203 204 205 206 207 208 209 210 211 212 213 214 215\n 216 217 218 219 220 221 222 223 224 225 226 227 228 229 230 231 232 233\n 234 235 236 237 238 239 240 241 242 243 244 245 246 247 248 249 250 251\n 252 253 254 255 256 257 258 259 260 261 262 263 264 265 266 267 268 269\n 270 271 272 273 274 275 276 277 278 279 280 281 282 283 284 285 286 287\n 288 289 290 291 292 293 294 295 296 297 298 299 300 301 302 303 304 305\n 306 307 308 309 310 311 312 313 314 315 316 317 318 319 320 321 322 323\n 324 325 326 327 328 329 330 331 332 333 334 335 336 337 338 339 340 341\n 342 343 344 345 346 347 348 349 350 351 352 353 354 355 356 357 358 359\n 360 361 362 363 364 365 366 367 368 369 370 371 372 373 374 375 376 377\n 378 379 380 381 382 383 384 385 386 387 388 389 390 391 392 393 394 395\n 396 397 398 399 400 401 402 403 404 462 463 464 465 466 467 468 469 470\n 471 472 473 474 475 476 477 478 479 480 481 482 483 484 485 486 487 488\n 489 490 491 492 493 494 495 496 497 498 499 500 501 502 503 504 505 506\n 507 508 509 510 511 512 513 514 515 516 517 518 519 520 521 522 523 524\n 525 526 527 528 529 530 531 532 533 534 535 536 537 538 539 540 541 542\n 543 544 545 546 547 548 549 550 551 552 553 554 555 556 557 558 559 560\n 561 562 563 564 565 566 567 568 569 570 571 572 573 574 575] Validation: [405 406 407 408 409 410 411 412 413 414 415 416 417 418 419 420 421 422\n 423 424 425 426 427 428 429 430 431 432 433 434 435 436 437 438 439 440\n 441 442 443 444 445 446 447 448 449 450 451 452 453 454 455 456 457 458\n 459 460 461]\nTrain: [  0   1   2   3   4   5   6   7   8   9  10  11  12  13  14  15  16  17\n  18  19  20  21  22  23  24  25  26  27  28  29  30  31  32  33  34  35\n  36  37  38  39  40  41  42  43  44  45  46  47  48  49  50  51  52  53\n  54  55  56  57  58  59  60  61  62  63  64  65  66  67  68  69  70  71\n  72  73  74  75  76  77  78  79  80  81  82  83  84  85  86  87  88  89\n  90  91  92  93  94  95  96  97  98  99 100 101 102 103 104 105 106 107\n 108 109 110 111 112 113 114 115 116 117 118 119 120 121 122 123 124 125\n 126 127 128 129 130 131 132 133 134 135 136 137 138 139 140 141 142 143\n 144 145 146 147 148 149 150 151 152 153 154 155 156 157 158 159 160 161\n 162 163 164 165 166 167 168 169 170 171 172 173 174 175 176 177 178 179\n 180 181 182 183 184 185 186 187 188 189 190 191 192 193 194 195 196 197\n 198 199 200 201 202 203 204 205 206 207 208 209 210 211 212 213 214 215\n 216 217 218 219 220 221 222 223 224 225 226 227 228 229 230 231 232 233\n 234 235 236 237 238 239 240 241 242 243 244 245 246 247 248 249 250 251\n 252 253 254 255 256 257 258 259 260 261 262 263 264 265 266 267 268 269\n 270 271 272 273 274 275 276 277 278 279 280 281 282 283 284 285 286 287\n 288 289 290 291 292 293 294 295 296 297 298 299 300 301 302 303 304 305\n 306 307 308 309 310 311 312 313 314 315 316 317 318 319 320 321 322 323\n 324 325 326 327 328 329 330 331 332 333 334 335 336 337 338 339 340 341\n 342 343 344 345 346 347 348 349 350 351 352 353 354 355 356 357 358 359\n 360 361 362 363 364 365 366 367 368 369 370 371 372 373 374 375 376 377\n 378 379 380 381 382 383 384 385 386 387 388 389 390 391 392 393 394 395\n 396 397 398 399 400 401 402 403 404 405 406 407 408 409 410 411 412 413\n 414 415 416 417 418 419 420 421 422 423 424 425 426 427 428 429 430 431\n 432 433 434 435 436 437 438 439 440 441 442 443 444 445 446 447 448 449\n 450 451 452 453 454 455 456 457 458 459 460 461 519 520 521 522 523 524\n 525 526 527 528 529 530 531 532 533 534 535 536 537 538 539 540 541 542\n 543 544 545 546 547 548 549 550 551 552 553 554 555 556 557 558 559 560\n 561 562 563 564 565 566 567 568 569 570 571 572 573 574 575] Validation: [462 463 464 465 466 467 468 469 470 471 472 473 474 475 476 477 478 479\n 480 481 482 483 484 485 486 487 488 489 490 491 492 493 494 495 496 497\n 498 499 500 501 502 503 504 505 506 507 508 509 510 511 512 513 514 515\n 516 517 518]\nTrain: [  0   1   2   3   4   5   6   7   8   9  10  11  12  13  14  15  16  17\n  18  19  20  21  22  23  24  25  26  27  28  29  30  31  32  33  34  35\n  36  37  38  39  40  41  42  43  44  45  46  47  48  49  50  51  52  53\n  54  55  56  57  58  59  60  61  62  63  64  65  66  67  68  69  70  71\n  72  73  74  75  76  77  78  79  80  81  82  83  84  85  86  87  88  89\n  90  91  92  93  94  95  96  97  98  99 100 101 102 103 104 105 106 107\n 108 109 110 111 112 113 114 115 116 117 118 119 120 121 122 123 124 125\n 126 127 128 129 130 131 132 133 134 135 136 137 138 139 140 141 142 143\n 144 145 146 147 148 149 150 151 152 153 154 155 156 157 158 159 160 161\n 162 163 164 165 166 167 168 169 170 171 172 173 174 175 176 177 178 179\n 180 181 182 183 184 185 186 187 188 189 190 191 192 193 194 195 196 197\n 198 199 200 201 202 203 204 205 206 207 208 209 210 211 212 213 214 215\n 216 217 218 219 220 221 222 223 224 225 226 227 228 229 230 231 232 233\n 234 235 236 237 238 239 240 241 242 243 244 245 246 247 248 249 250 251\n 252 253 254 255 256 257 258 259 260 261 262 263 264 265 266 267 268 269\n 270 271 272 273 274 275 276 277 278 279 280 281 282 283 284 285 286 287\n 288 289 290 291 292 293 294 295 296 297 298 299 300 301 302 303 304 305\n 306 307 308 309 310 311 312 313 314 315 316 317 318 319 320 321 322 323\n 324 325 326 327 328 329 330 331 332 333 334 335 336 337 338 339 340 341\n 342 343 344 345 346 347 348 349 350 351 352 353 354 355 356 357 358 359\n 360 361 362 363 364 365 366 367 368 369 370 371 372 373 374 375 376 377\n 378 379 380 381 382 383 384 385 386 387 388 389 390 391 392 393 394 395\n 396 397 398 399 400 401 402 403 404 405 406 407 408 409 410 411 412 413\n 414 415 416 417 418 419 420 421 422 423 424 425 426 427 428 429 430 431\n 432 433 434 435 436 437 438 439 440 441 442 443 444 445 446 447 448 449\n 450 451 452 453 454 455 456 457 458 459 460 461 462 463 464 465 466 467\n 468 469 470 471 472 473 474 475 476 477 478 479 480 481 482 483 484 485\n 486 487 488 489 490 491 492 493 494 495 496 497 498 499 500 501 502 503\n 504 505 506 507 508 509 510 511 512 513 514 515 516 517 518] Validation: [519 520 521 522 523 524 525 526 527 528 529 530 531 532 533 534 535 536\n 537 538 539 540 541 542 543 544 545 546 547 548 549 550 551 552 553 554\n 555 556 557 558 559 560 561 562 563 564 565 566 567 568 569 570 571 572\n 573 574 575]\n"
                }
            ], 
            "source": "\nfrom sklearn.model_selection import KFold \nkf =KFold(n_splits=10, random_state=4) \n\nfor train_index, test_index in kf.split(x):\n      print(\"Train:\", train_index, \"Validation:\",test_index)\n      x_train, x_test = x[train_index], x[test_index] \n      y_train, y_test = y[train_index], y[test_index]"
        }, 
        {
            "execution_count": 117, 
            "cell_type": "code", 
            "metadata": {}, 
            "outputs": [], 
            "source": "#from sklearn.model_selection import StratifiedKFold\n#skf = StratifiedKFold(n_splits=10, random_state=4)\n# X is the feature set and y is the target\n#for train_index, test_index in skf.split(x,y): \n   # print(\"Train:\", train_index, \"Validation:\", test_index) \n   # x_train, x_test = x[train_index], x[test_index] \n   # y_train, y_test = y[train_index], y[test_index]"
        }, 
        {
            "execution_count": 118, 
            "cell_type": "code", 
            "metadata": {}, 
            "outputs": [], 
            "source": "#x_train,x_test,y_train,y_test=train_test_split(x,y,test_size=0.20,random_state=4)"
        }, 
        {
            "execution_count": 119, 
            "cell_type": "code", 
            "metadata": {}, 
            "outputs": [
                {
                    "output_type": "stream", 
                    "name": "stdout", 
                    "text": "x_train (519, 5)\ny_train (519,)\n"
                }
            ], 
            "source": "print('x_train',x_train.shape)\nprint('y_train',y_train.shape)"
        }, 
        {
            "source": "* Data was split well", 
            "cell_type": "markdown", 
            "metadata": {}
        }, 
        {
            "execution_count": 120, 
            "cell_type": "code", 
            "metadata": {}, 
            "outputs": [], 
            "source": "model1=DecisionTreeClassifier(criterion='entropy',max_depth=4)\nmodel2=LogisticRegression()\nmodel3=KNeighborsClassifier(n_neighbors=9)"
        }, 
        {
            "execution_count": 121, 
            "cell_type": "code", 
            "metadata": {}, 
            "outputs": [
                {
                    "execution_count": 121, 
                    "metadata": {}, 
                    "data": {
                        "text/plain": "array([ 0.84210526,  0.92982456,  0.92982456,  0.92982456,  0.92982456,\n        0.92982456,  0.92982456,  0.92982456,  0.92982456])"
                    }, 
                    "output_type": "execute_result"
                }
            ], 
            "source": "Ks = 10\nmean_acc = np.zeros((Ks-1))\nstd_acc = np.zeros((Ks-1))\nConfustionMx = [];\nfor n in range(1,Ks):\n    \n    #Train Model and Predict  \n    neigh = KNeighborsClassifier(n_neighbors = n).fit(x_train,y_train)\n    yhat=neigh.predict(x_test)\n    mean_acc[n-1] = metrics.accuracy_score(y_test, yhat)\n\n    \n    std_acc[n-1]=np.std(yhat==y_test)/np.sqrt(yhat.shape[0])\n\nmean_acc"
        }, 
        {
            "execution_count": 30, 
            "cell_type": "code", 
            "metadata": {}, 
            "outputs": [
                {
                    "output_type": "stream", 
                    "name": "stdout", 
                    "text": "The best accuracy was with 0.929824561404 with k= 2\n"
                }
            ], 
            "source": "print( \"The best accuracy was with\", mean_acc.max(), \"with k=\", mean_acc.argmax()+1)"
        }, 
        {
            "execution_count": 31, 
            "cell_type": "code", 
            "metadata": {}, 
            "outputs": [], 
            "source": "from sklearn.model_selection import GridSearchCV"
        }, 
        {
            "execution_count": 32, 
            "cell_type": "code", 
            "metadata": {}, 
            "outputs": [
                {
                    "execution_count": 32, 
                    "metadata": {}, 
                    "data": {
                        "text/plain": "GridSearchCV(cv=4, error_score='raise',\n       estimator=LogisticRegression(C=1.0, class_weight=None, dual=False, fit_intercept=True,\n          intercept_scaling=1, max_iter=100, multi_class='ovr', n_jobs=1,\n          penalty='l2', random_state=None, solver='liblinear', tol=0.0001,\n          verbose=0, warm_start=False),\n       fit_params=None, iid=True, n_jobs=1,\n       param_grid=[{'random_state': [4], 'max_iter': [100, 200, 300, 400], 'C': [0.001, 0.01, 0.1]}],\n       pre_dispatch='2*n_jobs', refit=True, return_train_score='warn',\n       scoring=None, verbose=0)"
                    }, 
                    "output_type": "execute_result"
                }
            ], 
            "source": "parameters=[{'C':[0.001,0.01,0.1],'random_state':[4],'max_iter':[100,200,300,400]}]\nGrid=GridSearchCV(model2,parameters,cv=4)\nGrid.fit(x_train,y_train)"
        }, 
        {
            "execution_count": 33, 
            "cell_type": "code", 
            "metadata": {}, 
            "outputs": [
                {
                    "execution_count": 33, 
                    "metadata": {}, 
                    "data": {
                        "text/plain": "LogisticRegression(C=0.01, class_weight=None, dual=False, fit_intercept=True,\n          intercept_scaling=1, max_iter=100, multi_class='ovr', n_jobs=1,\n          penalty='l2', random_state=4, solver='liblinear', tol=0.0001,\n          verbose=0, warm_start=False)"
                    }, 
                    "output_type": "execute_result"
                }
            ], 
            "source": "Grid.best_estimator_"
        }, 
        {
            "execution_count": null, 
            "cell_type": "code", 
            "metadata": {}, 
            "outputs": [], 
            "source": ""
        }, 
        {
            "source": "### Train your models", 
            "cell_type": "markdown", 
            "metadata": {}
        }, 
        {
            "execution_count": 122, 
            "cell_type": "code", 
            "metadata": {}, 
            "outputs": [
                {
                    "execution_count": 122, 
                    "metadata": {}, 
                    "data": {
                        "text/plain": "KNeighborsClassifier(algorithm='auto', leaf_size=30, metric='minkowski',\n           metric_params=None, n_jobs=1, n_neighbors=9, p=2,\n           weights='uniform')"
                    }, 
                    "output_type": "execute_result"
                }
            ], 
            "source": "model1.fit(x_train,y_train)\nmodel2.fit(x_train,y_train)\nmodel3.fit(x_train,y_train)"
        }, 
        {
            "source": "### Predict your outcome", 
            "cell_type": "markdown", 
            "metadata": {}
        }, 
        {
            "execution_count": 123, 
            "cell_type": "code", 
            "metadata": {}, 
            "outputs": [], 
            "source": "y_hat1=model1.predict(x_test)\ny_hat2=model2.predict(x_test)\ny_hat3=model3.predict(x_test)"
        }, 
        {
            "execution_count": 124, 
            "cell_type": "code", 
            "metadata": {}, 
            "outputs": [
                {
                    "output_type": "stream", 
                    "name": "stdout", 
                    "text": "predicted [0 0 0 0 0]\nactual [0 0 0 0 0]\n"
                }
            ], 
            "source": "print('predicted',y_hat1[0:5])\nprint('actual',y_test[0:5])"
        }, 
        {
            "source": "#### predict probability", 
            "cell_type": "markdown", 
            "metadata": {}
        }, 
        {
            "execution_count": 125, 
            "cell_type": "code", 
            "metadata": {}, 
            "outputs": [], 
            "source": "y_hat1prob=model1.predict_proba(x_test)\ny_hat2prob=model2.predict_proba(x_test)\ny_hat3prob=model3.predict_proba(x_test)"
        }, 
        {
            "execution_count": null, 
            "cell_type": "code", 
            "metadata": {}, 
            "outputs": [], 
            "source": ""
        }, 
        {
            "execution_count": null, 
            "cell_type": "code", 
            "metadata": {}, 
            "outputs": [], 
            "source": ""
        }, 
        {
            "source": "### Evaluation", 
            "cell_type": "markdown", 
            "metadata": {}
        }, 
        {
            "execution_count": 126, 
            "cell_type": "code", 
            "metadata": {}, 
            "outputs": [
                {
                    "execution_count": 126, 
                    "metadata": {}, 
                    "data": {
                        "text/plain": "0.89473684210526316"
                    }, 
                    "output_type": "execute_result"
                }
            ], 
            "source": "from sklearn.metrics import jaccard_similarity_score\njaccard_similarity_score(y_test,y_hat1)"
        }, 
        {
            "execution_count": 127, 
            "cell_type": "code", 
            "metadata": {}, 
            "outputs": [
                {
                    "execution_count": 127, 
                    "metadata": {}, 
                    "data": {
                        "text/plain": "0.92982456140350878"
                    }, 
                    "output_type": "execute_result"
                }
            ], 
            "source": "from sklearn.metrics import jaccard_similarity_score\njaccard_similarity_score(y_test,y_hat2)"
        }, 
        {
            "execution_count": 128, 
            "cell_type": "code", 
            "metadata": {}, 
            "outputs": [
                {
                    "execution_count": 128, 
                    "metadata": {}, 
                    "data": {
                        "text/plain": "0.92982456140350878"
                    }, 
                    "output_type": "execute_result"
                }
            ], 
            "source": "from sklearn.metrics import jaccard_similarity_score\njaccard_similarity_score(y_test,y_hat3)"
        }, 
        {
            "source": "## Log Loss", 
            "cell_type": "markdown", 
            "metadata": {}
        }, 
        {
            "execution_count": 129, 
            "cell_type": "code", 
            "metadata": {}, 
            "outputs": [], 
            "source": "from sklearn.metrics import log_loss"
        }, 
        {
            "execution_count": 130, 
            "cell_type": "code", 
            "metadata": {}, 
            "outputs": [
                {
                    "execution_count": 130, 
                    "metadata": {}, 
                    "data": {
                        "text/plain": "0.25380969915513785"
                    }, 
                    "output_type": "execute_result"
                }
            ], 
            "source": "log_loss(y_test,y_hat2prob)"
        }, 
        {
            "execution_count": 131, 
            "cell_type": "code", 
            "metadata": {}, 
            "outputs": [
                {
                    "execution_count": 131, 
                    "metadata": {}, 
                    "data": {
                        "text/plain": "0.81320358297938988"
                    }, 
                    "output_type": "execute_result"
                }
            ], 
            "source": "log_loss(y_test,y_hat3prob)"
        }, 
        {
            "execution_count": null, 
            "cell_type": "code", 
            "metadata": {}, 
            "outputs": [], 
            "source": ""
        }, 
        {
            "execution_count": null, 
            "cell_type": "code", 
            "metadata": {}, 
            "outputs": [], 
            "source": ""
        }, 
        {
            "source": "### Testing", 
            "cell_type": "markdown", 
            "metadata": {}
        }, 
        {
            "execution_count": 132, 
            "cell_type": "code", 
            "metadata": {}, 
            "outputs": [
                {
                    "execution_count": 132, 
                    "metadata": {}, 
                    "data": {
                        "text/html": "<div>\n<style scoped>\n    .dataframe tbody tr th:only-of-type {\n        vertical-align: middle;\n    }\n\n    .dataframe tbody tr th {\n        vertical-align: top;\n    }\n\n    .dataframe thead th {\n        text-align: right;\n    }\n</style>\n<table border=\"1\" class=\"dataframe\">\n  <thead>\n    <tr style=\"text-align: right;\">\n      <th></th>\n      <th>Unnamed: 0</th>\n      <th>Months since Last Donation</th>\n      <th>Number of Donations</th>\n      <th>Total Volume Donated (c.c.)</th>\n      <th>Months since First Donation</th>\n      <th>per_month</th>\n      <th>avg_don</th>\n      <th>Ratio</th>\n    </tr>\n  </thead>\n  <tbody>\n    <tr>\n      <th>0</th>\n      <td>659</td>\n      <td>2</td>\n      <td>12</td>\n      <td>3000</td>\n      <td>52</td>\n      <td>0.230769</td>\n      <td>57.692308</td>\n      <td>0.038462</td>\n    </tr>\n    <tr>\n      <th>1</th>\n      <td>276</td>\n      <td>21</td>\n      <td>7</td>\n      <td>1750</td>\n      <td>38</td>\n      <td>0.184211</td>\n      <td>46.052632</td>\n      <td>0.552632</td>\n    </tr>\n    <tr>\n      <th>2</th>\n      <td>263</td>\n      <td>4</td>\n      <td>1</td>\n      <td>250</td>\n      <td>4</td>\n      <td>0.250000</td>\n      <td>62.500000</td>\n      <td>1.000000</td>\n    </tr>\n    <tr>\n      <th>3</th>\n      <td>303</td>\n      <td>11</td>\n      <td>11</td>\n      <td>2750</td>\n      <td>38</td>\n      <td>0.289474</td>\n      <td>72.368421</td>\n      <td>0.289474</td>\n    </tr>\n    <tr>\n      <th>4</th>\n      <td>83</td>\n      <td>4</td>\n      <td>12</td>\n      <td>3000</td>\n      <td>34</td>\n      <td>0.352941</td>\n      <td>88.235294</td>\n      <td>0.117647</td>\n    </tr>\n  </tbody>\n</table>\n</div>", 
                        "text/plain": "   Unnamed: 0  Months since Last Donation  Number of Donations  \\\n0         659                           2                   12   \n1         276                          21                    7   \n2         263                           4                    1   \n3         303                          11                   11   \n4          83                           4                   12   \n\n   Total Volume Donated (c.c.)  Months since First Donation  per_month  \\\n0                         3000                           52   0.230769   \n1                         1750                           38   0.184211   \n2                          250                            4   0.250000   \n3                         2750                           38   0.289474   \n4                         3000                           34   0.352941   \n\n     avg_don     Ratio  \n0  57.692308  0.038462  \n1  46.052632  0.552632  \n2  62.500000  1.000000  \n3  72.368421  0.289474  \n4  88.235294  0.117647  "
                    }, 
                    "output_type": "execute_result"
                }
            ], 
            "source": "df_test.head()"
        }, 
        {
            "execution_count": 133, 
            "cell_type": "code", 
            "metadata": {}, 
            "outputs": [
                {
                    "execution_count": 133, 
                    "metadata": {}, 
                    "data": {
                        "text/plain": "Index(['Unnamed: 0', 'Months since Last Donation', 'Number of Donations',\n       'Total Volume Donated (c.c.)', 'Months since First Donation',\n       'per_month', 'avg_don', 'Ratio'],\n      dtype='object')"
                    }, 
                    "output_type": "execute_result"
                }
            ], 
            "source": "df_test.columns"
        }, 
        {
            "execution_count": 137, 
            "cell_type": "code", 
            "metadata": {}, 
            "outputs": [], 
            "source": "test_x=df_test[['Months since Last Donation', 'Number of Donations',\n        'Months since First Donation',\n         'per_month', 'avg_don']].values"
        }, 
        {
            "execution_count": 138, 
            "cell_type": "code", 
            "metadata": {}, 
            "outputs": [], 
            "source": "test_x=preprocessing.StandardScaler().fit(test_x).transform(test_x)"
        }, 
        {
            "source": "### predict", 
            "cell_type": "markdown", 
            "metadata": {}
        }, 
        {
            "execution_count": 139, 
            "cell_type": "code", 
            "metadata": {}, 
            "outputs": [], 
            "source": "yhat1=model1.predict_proba(test_x)\nyhat2=model2.predict_proba(test_x)\nyhat3=model3.predict_proba(test_x)"
        }, 
        {
            "execution_count": 140, 
            "cell_type": "code", 
            "metadata": {}, 
            "outputs": [
                {
                    "execution_count": 140, 
                    "metadata": {}, 
                    "data": {
                        "text/plain": "array([[ 0.40740741,  0.59259259],\n       [ 0.84090909,  0.15909091],\n       [ 0.84      ,  0.16      ],\n       [ 1.        ,  0.        ],\n       [ 0.40740741,  0.59259259]])"
                    }, 
                    "output_type": "execute_result"
                }
            ], 
            "source": "yhat1[0:5]"
        }, 
        {
            "execution_count": 141, 
            "cell_type": "code", 
            "metadata": {}, 
            "outputs": [], 
            "source": "Decision=pd.DataFrame(yhat1)"
        }, 
        {
            "execution_count": 142, 
            "cell_type": "code", 
            "metadata": {}, 
            "outputs": [
                {
                    "execution_count": 142, 
                    "metadata": {}, 
                    "data": {
                        "text/html": "<div>\n<style scoped>\n    .dataframe tbody tr th:only-of-type {\n        vertical-align: middle;\n    }\n\n    .dataframe tbody tr th {\n        vertical-align: top;\n    }\n\n    .dataframe thead th {\n        text-align: right;\n    }\n</style>\n<table border=\"1\" class=\"dataframe\">\n  <thead>\n    <tr style=\"text-align: right;\">\n      <th></th>\n      <th>0</th>\n      <th>1</th>\n    </tr>\n  </thead>\n  <tbody>\n    <tr>\n      <th>0</th>\n      <td>0.407407</td>\n      <td>0.592593</td>\n    </tr>\n    <tr>\n      <th>1</th>\n      <td>0.840909</td>\n      <td>0.159091</td>\n    </tr>\n    <tr>\n      <th>2</th>\n      <td>0.840000</td>\n      <td>0.160000</td>\n    </tr>\n    <tr>\n      <th>3</th>\n      <td>1.000000</td>\n      <td>0.000000</td>\n    </tr>\n    <tr>\n      <th>4</th>\n      <td>0.407407</td>\n      <td>0.592593</td>\n    </tr>\n  </tbody>\n</table>\n</div>", 
                        "text/plain": "          0         1\n0  0.407407  0.592593\n1  0.840909  0.159091\n2  0.840000  0.160000\n3  1.000000  0.000000\n4  0.407407  0.592593"
                    }, 
                    "output_type": "execute_result"
                }
            ], 
            "source": "Decision.head()"
        }, 
        {
            "execution_count": 143, 
            "cell_type": "code", 
            "metadata": {}, 
            "outputs": [], 
            "source": "Decision.columns=['zero','Made Donation in March 2007']"
        }, 
        {
            "execution_count": 144, 
            "cell_type": "code", 
            "metadata": {}, 
            "outputs": [
                {
                    "execution_count": 144, 
                    "metadata": {}, 
                    "data": {
                        "text/html": "<div>\n<style scoped>\n    .dataframe tbody tr th:only-of-type {\n        vertical-align: middle;\n    }\n\n    .dataframe tbody tr th {\n        vertical-align: top;\n    }\n\n    .dataframe thead th {\n        text-align: right;\n    }\n</style>\n<table border=\"1\" class=\"dataframe\">\n  <thead>\n    <tr style=\"text-align: right;\">\n      <th></th>\n      <th>Unnamed: 0</th>\n      <th>Months since Last Donation</th>\n      <th>Number of Donations</th>\n      <th>Total Volume Donated (c.c.)</th>\n      <th>Months since First Donation</th>\n      <th>per_month</th>\n      <th>avg_don</th>\n      <th>Ratio</th>\n      <th>zero</th>\n      <th>Made Donation in March 2007</th>\n    </tr>\n  </thead>\n  <tbody>\n    <tr>\n      <th>0</th>\n      <td>659</td>\n      <td>2</td>\n      <td>12</td>\n      <td>3000</td>\n      <td>52</td>\n      <td>0.230769</td>\n      <td>57.692308</td>\n      <td>0.038462</td>\n      <td>0.407407</td>\n      <td>0.592593</td>\n    </tr>\n    <tr>\n      <th>1</th>\n      <td>276</td>\n      <td>21</td>\n      <td>7</td>\n      <td>1750</td>\n      <td>38</td>\n      <td>0.184211</td>\n      <td>46.052632</td>\n      <td>0.552632</td>\n      <td>0.840909</td>\n      <td>0.159091</td>\n    </tr>\n    <tr>\n      <th>2</th>\n      <td>263</td>\n      <td>4</td>\n      <td>1</td>\n      <td>250</td>\n      <td>4</td>\n      <td>0.250000</td>\n      <td>62.500000</td>\n      <td>1.000000</td>\n      <td>0.840000</td>\n      <td>0.160000</td>\n    </tr>\n    <tr>\n      <th>3</th>\n      <td>303</td>\n      <td>11</td>\n      <td>11</td>\n      <td>2750</td>\n      <td>38</td>\n      <td>0.289474</td>\n      <td>72.368421</td>\n      <td>0.289474</td>\n      <td>1.000000</td>\n      <td>0.000000</td>\n    </tr>\n    <tr>\n      <th>4</th>\n      <td>83</td>\n      <td>4</td>\n      <td>12</td>\n      <td>3000</td>\n      <td>34</td>\n      <td>0.352941</td>\n      <td>88.235294</td>\n      <td>0.117647</td>\n      <td>0.407407</td>\n      <td>0.592593</td>\n    </tr>\n  </tbody>\n</table>\n</div>", 
                        "text/plain": "   Unnamed: 0  Months since Last Donation  Number of Donations  \\\n0         659                           2                   12   \n1         276                          21                    7   \n2         263                           4                    1   \n3         303                          11                   11   \n4          83                           4                   12   \n\n   Total Volume Donated (c.c.)  Months since First Donation  per_month  \\\n0                         3000                           52   0.230769   \n1                         1750                           38   0.184211   \n2                          250                            4   0.250000   \n3                         2750                           38   0.289474   \n4                         3000                           34   0.352941   \n\n     avg_don     Ratio      zero  Made Donation in March 2007  \n0  57.692308  0.038462  0.407407                     0.592593  \n1  46.052632  0.552632  0.840909                     0.159091  \n2  62.500000  1.000000  0.840000                     0.160000  \n3  72.368421  0.289474  1.000000                     0.000000  \n4  88.235294  0.117647  0.407407                     0.592593  "
                    }, 
                    "output_type": "execute_result"
                }
            ], 
            "source": "df_final=pd.concat([df_test,Decision],axis=1)\ndf_final.head()"
        }, 
        {
            "execution_count": 145, 
            "cell_type": "code", 
            "metadata": {}, 
            "outputs": [
                {
                    "execution_count": 145, 
                    "metadata": {}, 
                    "data": {
                        "text/plain": "Index(['Unnamed: 0', 'Months since Last Donation', 'Number of Donations',\n       'Total Volume Donated (c.c.)', 'Months since First Donation',\n       'per_month', 'avg_don', 'Ratio', 'zero', 'Made Donation in March 2007'],\n      dtype='object')"
                    }, 
                    "output_type": "execute_result"
                }
            ], 
            "source": "df_final.columns"
        }, 
        {
            "execution_count": 146, 
            "cell_type": "code", 
            "metadata": {}, 
            "outputs": [
                {
                    "execution_count": 146, 
                    "metadata": {}, 
                    "data": {
                        "text/html": "<div>\n<style scoped>\n    .dataframe tbody tr th:only-of-type {\n        vertical-align: middle;\n    }\n\n    .dataframe tbody tr th {\n        vertical-align: top;\n    }\n\n    .dataframe thead th {\n        text-align: right;\n    }\n</style>\n<table border=\"1\" class=\"dataframe\">\n  <thead>\n    <tr style=\"text-align: right;\">\n      <th></th>\n      <th>Unnamed: 0</th>\n      <th>Made Donation in March 2007</th>\n    </tr>\n  </thead>\n  <tbody>\n    <tr>\n      <th>0</th>\n      <td>659</td>\n      <td>0.592593</td>\n    </tr>\n    <tr>\n      <th>1</th>\n      <td>276</td>\n      <td>0.159091</td>\n    </tr>\n    <tr>\n      <th>2</th>\n      <td>263</td>\n      <td>0.160000</td>\n    </tr>\n    <tr>\n      <th>3</th>\n      <td>303</td>\n      <td>0.000000</td>\n    </tr>\n    <tr>\n      <th>4</th>\n      <td>83</td>\n      <td>0.592593</td>\n    </tr>\n  </tbody>\n</table>\n</div>", 
                        "text/plain": "   Unnamed: 0  Made Donation in March 2007\n0         659                     0.592593\n1         276                     0.159091\n2         263                     0.160000\n3         303                     0.000000\n4          83                     0.592593"
                    }, 
                    "output_type": "execute_result"
                }
            ], 
            "source": "df_sub=df_final[['Unnamed: 0','Made Donation in March 2007']]\ndf_sub.head()"
        }, 
        {
            "execution_count": 147, 
            "cell_type": "code", 
            "metadata": {}, 
            "outputs": [
                {
                    "execution_count": 147, 
                    "metadata": {}, 
                    "data": {
                        "text/html": "<div>\n<style scoped>\n    .dataframe tbody tr th:only-of-type {\n        vertical-align: middle;\n    }\n\n    .dataframe tbody tr th {\n        vertical-align: top;\n    }\n\n    .dataframe thead th {\n        text-align: right;\n    }\n</style>\n<table border=\"1\" class=\"dataframe\">\n  <thead>\n    <tr style=\"text-align: right;\">\n      <th></th>\n      <th>zero</th>\n      <th>Made Donation in March 2007</th>\n    </tr>\n  </thead>\n  <tbody>\n    <tr>\n      <th>0</th>\n      <td>0.555109</td>\n      <td>0.444891</td>\n    </tr>\n    <tr>\n      <th>1</th>\n      <td>0.912917</td>\n      <td>0.087083</td>\n    </tr>\n    <tr>\n      <th>2</th>\n      <td>0.698391</td>\n      <td>0.301609</td>\n    </tr>\n    <tr>\n      <th>3</th>\n      <td>0.721141</td>\n      <td>0.278859</td>\n    </tr>\n    <tr>\n      <th>4</th>\n      <td>0.526684</td>\n      <td>0.473316</td>\n    </tr>\n  </tbody>\n</table>\n</div>", 
                        "text/plain": "       zero  Made Donation in March 2007\n0  0.555109                     0.444891\n1  0.912917                     0.087083\n2  0.698391                     0.301609\n3  0.721141                     0.278859\n4  0.526684                     0.473316"
                    }, 
                    "output_type": "execute_result"
                }
            ], 
            "source": "logistic=pd.DataFrame(yhat2)\nlogistic.columns=['zero','Made Donation in March 2007']\nlogistic.head()"
        }, 
        {
            "execution_count": 148, 
            "cell_type": "code", 
            "metadata": {}, 
            "outputs": [
                {
                    "execution_count": 148, 
                    "metadata": {}, 
                    "data": {
                        "text/html": "<div>\n<style scoped>\n    .dataframe tbody tr th:only-of-type {\n        vertical-align: middle;\n    }\n\n    .dataframe tbody tr th {\n        vertical-align: top;\n    }\n\n    .dataframe thead th {\n        text-align: right;\n    }\n</style>\n<table border=\"1\" class=\"dataframe\">\n  <thead>\n    <tr style=\"text-align: right;\">\n      <th></th>\n      <th>Unnamed: 0</th>\n      <th>Months since Last Donation</th>\n      <th>Number of Donations</th>\n      <th>Total Volume Donated (c.c.)</th>\n      <th>Months since First Donation</th>\n      <th>per_month</th>\n      <th>avg_don</th>\n      <th>Ratio</th>\n      <th>zero</th>\n      <th>Made Donation in March 2007</th>\n    </tr>\n  </thead>\n  <tbody>\n    <tr>\n      <th>0</th>\n      <td>659</td>\n      <td>2</td>\n      <td>12</td>\n      <td>3000</td>\n      <td>52</td>\n      <td>0.230769</td>\n      <td>57.692308</td>\n      <td>0.038462</td>\n      <td>0.555109</td>\n      <td>0.444891</td>\n    </tr>\n    <tr>\n      <th>1</th>\n      <td>276</td>\n      <td>21</td>\n      <td>7</td>\n      <td>1750</td>\n      <td>38</td>\n      <td>0.184211</td>\n      <td>46.052632</td>\n      <td>0.552632</td>\n      <td>0.912917</td>\n      <td>0.087083</td>\n    </tr>\n    <tr>\n      <th>2</th>\n      <td>263</td>\n      <td>4</td>\n      <td>1</td>\n      <td>250</td>\n      <td>4</td>\n      <td>0.250000</td>\n      <td>62.500000</td>\n      <td>1.000000</td>\n      <td>0.698391</td>\n      <td>0.301609</td>\n    </tr>\n    <tr>\n      <th>3</th>\n      <td>303</td>\n      <td>11</td>\n      <td>11</td>\n      <td>2750</td>\n      <td>38</td>\n      <td>0.289474</td>\n      <td>72.368421</td>\n      <td>0.289474</td>\n      <td>0.721141</td>\n      <td>0.278859</td>\n    </tr>\n    <tr>\n      <th>4</th>\n      <td>83</td>\n      <td>4</td>\n      <td>12</td>\n      <td>3000</td>\n      <td>34</td>\n      <td>0.352941</td>\n      <td>88.235294</td>\n      <td>0.117647</td>\n      <td>0.526684</td>\n      <td>0.473316</td>\n    </tr>\n  </tbody>\n</table>\n</div>", 
                        "text/plain": "   Unnamed: 0  Months since Last Donation  Number of Donations  \\\n0         659                           2                   12   \n1         276                          21                    7   \n2         263                           4                    1   \n3         303                          11                   11   \n4          83                           4                   12   \n\n   Total Volume Donated (c.c.)  Months since First Donation  per_month  \\\n0                         3000                           52   0.230769   \n1                         1750                           38   0.184211   \n2                          250                            4   0.250000   \n3                         2750                           38   0.289474   \n4                         3000                           34   0.352941   \n\n     avg_don     Ratio      zero  Made Donation in March 2007  \n0  57.692308  0.038462  0.555109                     0.444891  \n1  46.052632  0.552632  0.912917                     0.087083  \n2  62.500000  1.000000  0.698391                     0.301609  \n3  72.368421  0.289474  0.721141                     0.278859  \n4  88.235294  0.117647  0.526684                     0.473316  "
                    }, 
                    "output_type": "execute_result"
                }
            ], 
            "source": "df_final2=pd.concat([df_test,logistic],axis=1)\ndf_final2.head()"
        }, 
        {
            "execution_count": 149, 
            "cell_type": "code", 
            "metadata": {}, 
            "outputs": [
                {
                    "execution_count": 149, 
                    "metadata": {}, 
                    "data": {
                        "text/html": "<div>\n<style scoped>\n    .dataframe tbody tr th:only-of-type {\n        vertical-align: middle;\n    }\n\n    .dataframe tbody tr th {\n        vertical-align: top;\n    }\n\n    .dataframe thead th {\n        text-align: right;\n    }\n</style>\n<table border=\"1\" class=\"dataframe\">\n  <thead>\n    <tr style=\"text-align: right;\">\n      <th></th>\n      <th>Unnamed: 0</th>\n      <th>Made Donation in March 2007</th>\n    </tr>\n  </thead>\n  <tbody>\n    <tr>\n      <th>0</th>\n      <td>659</td>\n      <td>0.444891</td>\n    </tr>\n    <tr>\n      <th>1</th>\n      <td>276</td>\n      <td>0.087083</td>\n    </tr>\n    <tr>\n      <th>2</th>\n      <td>263</td>\n      <td>0.301609</td>\n    </tr>\n    <tr>\n      <th>3</th>\n      <td>303</td>\n      <td>0.278859</td>\n    </tr>\n    <tr>\n      <th>4</th>\n      <td>83</td>\n      <td>0.473316</td>\n    </tr>\n  </tbody>\n</table>\n</div>", 
                        "text/plain": "   Unnamed: 0  Made Donation in March 2007\n0         659                     0.444891\n1         276                     0.087083\n2         263                     0.301609\n3         303                     0.278859\n4          83                     0.473316"
                    }, 
                    "output_type": "execute_result"
                }
            ], 
            "source": "df_sub1=df_final2[['Unnamed: 0','Made Donation in March 2007']]\ndf_sub1.head()"
        }, 
        {
            "execution_count": 150, 
            "cell_type": "code", 
            "metadata": {}, 
            "outputs": [
                {
                    "execution_count": 150, 
                    "metadata": {}, 
                    "data": {
                        "text/plain": "{'asset_id': 'edc17afb-438d-4aee-bb55-2bd1d7b49b47',\n 'bucket_name': 'predictblooddonation-donotdelete-pr-zd9e3njxbqzk3r',\n 'file_name': 'prediction3.csv',\n 'message': 'File saved to project storage.'}"
                    }, 
                    "output_type": "execute_result"
                }
            ], 
            "source": "project.save_data(data=df_sub1.to_csv(index=False),file_name='prediction3.csv',overwrite=True)"
        }, 
        {
            "execution_count": null, 
            "cell_type": "code", 
            "metadata": {}, 
            "outputs": [], 
            "source": ""
        }, 
        {
            "execution_count": null, 
            "cell_type": "code", 
            "metadata": {}, 
            "outputs": [], 
            "source": ""
        }, 
        {
            "execution_count": null, 
            "cell_type": "code", 
            "metadata": {}, 
            "outputs": [], 
            "source": ""
        }, 
        {
            "execution_count": null, 
            "cell_type": "code", 
            "metadata": {}, 
            "outputs": [], 
            "source": ""
        }, 
        {
            "execution_count": null, 
            "cell_type": "code", 
            "metadata": {}, 
            "outputs": [], 
            "source": ""
        }
    ], 
    "metadata": {
        "kernelspec": {
            "display_name": "Python 3.5", 
            "name": "python3", 
            "language": "python"
        }, 
        "language_info": {
            "mimetype": "text/x-python", 
            "nbconvert_exporter": "python", 
            "version": "3.5.5", 
            "name": "python", 
            "file_extension": ".py", 
            "pygments_lexer": "ipython3", 
            "codemirror_mode": {
                "version": 3, 
                "name": "ipython"
            }
        }
    }, 
    "nbformat": 4
}