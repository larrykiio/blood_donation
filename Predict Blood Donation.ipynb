{
    "nbformat_minor": 1, 
    "cells": [
        {
            "execution_count": 55, 
            "cell_type": "code", 
            "metadata": {}, 
            "outputs": [], 
            "source": "# The code was removed by Watson Studio for sharing."
        }, 
        {
            "source": "## Import Your Dataset", 
            "cell_type": "markdown", 
            "metadata": {
                "collapsed": true
            }
        }, 
        {
            "execution_count": 1, 
            "cell_type": "code", 
            "metadata": {}, 
            "outputs": [
                {
                    "execution_count": 1, 
                    "metadata": {}, 
                    "data": {
                        "text/html": "<div>\n<style scoped>\n    .dataframe tbody tr th:only-of-type {\n        vertical-align: middle;\n    }\n\n    .dataframe tbody tr th {\n        vertical-align: top;\n    }\n\n    .dataframe thead th {\n        text-align: right;\n    }\n</style>\n<table border=\"1\" class=\"dataframe\">\n  <thead>\n    <tr style=\"text-align: right;\">\n      <th></th>\n      <th>Unnamed: 0</th>\n      <th>Months since Last Donation</th>\n      <th>Number of Donations</th>\n      <th>Total Volume Donated (c.c.)</th>\n      <th>Months since First Donation</th>\n      <th>Made Donation in March 2007</th>\n    </tr>\n  </thead>\n  <tbody>\n    <tr>\n      <th>0</th>\n      <td>619</td>\n      <td>2</td>\n      <td>50</td>\n      <td>12500</td>\n      <td>98</td>\n      <td>1</td>\n    </tr>\n    <tr>\n      <th>1</th>\n      <td>664</td>\n      <td>0</td>\n      <td>13</td>\n      <td>3250</td>\n      <td>28</td>\n      <td>1</td>\n    </tr>\n    <tr>\n      <th>2</th>\n      <td>441</td>\n      <td>1</td>\n      <td>16</td>\n      <td>4000</td>\n      <td>35</td>\n      <td>1</td>\n    </tr>\n    <tr>\n      <th>3</th>\n      <td>160</td>\n      <td>2</td>\n      <td>20</td>\n      <td>5000</td>\n      <td>45</td>\n      <td>1</td>\n    </tr>\n    <tr>\n      <th>4</th>\n      <td>358</td>\n      <td>1</td>\n      <td>24</td>\n      <td>6000</td>\n      <td>77</td>\n      <td>0</td>\n    </tr>\n  </tbody>\n</table>\n</div>", 
                        "text/plain": "   Unnamed: 0  Months since Last Donation  Number of Donations  \\\n0         619                           2                   50   \n1         664                           0                   13   \n2         441                           1                   16   \n3         160                           2                   20   \n4         358                           1                   24   \n\n   Total Volume Donated (c.c.)  Months since First Donation  \\\n0                        12500                           98   \n1                         3250                           28   \n2                         4000                           35   \n3                         5000                           45   \n4                         6000                           77   \n\n   Made Donation in March 2007  \n0                            1  \n1                            1  \n2                            1  \n3                            1  \n4                            0  "
                    }, 
                    "output_type": "execute_result"
                }
            ], 
            "source": "# The code was removed by Watson Studio for sharing."
        }, 
        {
            "execution_count": 3, 
            "cell_type": "code", 
            "metadata": {}, 
            "outputs": [
                {
                    "execution_count": 3, 
                    "metadata": {}, 
                    "data": {
                        "text/html": "<div>\n<style scoped>\n    .dataframe tbody tr th:only-of-type {\n        vertical-align: middle;\n    }\n\n    .dataframe tbody tr th {\n        vertical-align: top;\n    }\n\n    .dataframe thead th {\n        text-align: right;\n    }\n</style>\n<table border=\"1\" class=\"dataframe\">\n  <thead>\n    <tr style=\"text-align: right;\">\n      <th></th>\n      <th>Unnamed: 0</th>\n      <th>Months since Last Donation</th>\n      <th>Number of Donations</th>\n      <th>Total Volume Donated (c.c.)</th>\n      <th>Months since First Donation</th>\n    </tr>\n  </thead>\n  <tbody>\n    <tr>\n      <th>0</th>\n      <td>659</td>\n      <td>2</td>\n      <td>12</td>\n      <td>3000</td>\n      <td>52</td>\n    </tr>\n    <tr>\n      <th>1</th>\n      <td>276</td>\n      <td>21</td>\n      <td>7</td>\n      <td>1750</td>\n      <td>38</td>\n    </tr>\n    <tr>\n      <th>2</th>\n      <td>263</td>\n      <td>4</td>\n      <td>1</td>\n      <td>250</td>\n      <td>4</td>\n    </tr>\n    <tr>\n      <th>3</th>\n      <td>303</td>\n      <td>11</td>\n      <td>11</td>\n      <td>2750</td>\n      <td>38</td>\n    </tr>\n    <tr>\n      <th>4</th>\n      <td>83</td>\n      <td>4</td>\n      <td>12</td>\n      <td>3000</td>\n      <td>34</td>\n    </tr>\n  </tbody>\n</table>\n</div>", 
                        "text/plain": "   Unnamed: 0  Months since Last Donation  Number of Donations  \\\n0         659                           2                   12   \n1         276                          21                    7   \n2         263                           4                    1   \n3         303                          11                   11   \n4          83                           4                   12   \n\n   Total Volume Donated (c.c.)  Months since First Donation  \n0                         3000                           52  \n1                         1750                           38  \n2                          250                            4  \n3                         2750                           38  \n4                         3000                           34  "
                    }, 
                    "output_type": "execute_result"
                }
            ], 
            "source": "\nbody = client_887e8fed66994bce85b726a4b6eee3dd.get_object(Bucket='predictblooddonation-donotdelete-pr-zd9e3njxbqzk3r',Key='test.csv')['Body']\n# add missing __iter__ method, so pandas accepts body as file-like object\nif not hasattr(body, \"__iter__\"): body.__iter__ = types.MethodType( __iter__, body )\n\ndf_test = pd.read_csv(body)\ndf_test.head()\n\n"
        }, 
        {
            "execution_count": 19, 
            "cell_type": "code", 
            "metadata": {}, 
            "outputs": [], 
            "source": "import pandas as pd\nimport numpy as np\nfrom sklearn import preprocessing\nfrom sklearn.model_selection import train_test_split\nfrom sklearn.linear_model import LogisticRegression\nfrom sklearn.tree import DecisionTreeClassifier\nfrom sklearn.neighbors import KNeighborsClassifier\nfrom sklearn import metrics"
        }, 
        {
            "execution_count": 5, 
            "cell_type": "code", 
            "metadata": {}, 
            "outputs": [
                {
                    "execution_count": 5, 
                    "metadata": {}, 
                    "data": {
                        "text/plain": "(576, 6)"
                    }, 
                    "output_type": "execute_result"
                }
            ], 
            "source": "df_train.shape#check the shape of the data"
        }, 
        {
            "execution_count": 6, 
            "cell_type": "code", 
            "metadata": {}, 
            "outputs": [
                {
                    "execution_count": 6, 
                    "metadata": {}, 
                    "data": {
                        "text/plain": "0"
                    }, 
                    "output_type": "execute_result"
                }
            ], 
            "source": "np.sum(df_train.duplicated())# no duplicates"
        }, 
        {
            "execution_count": 7, 
            "cell_type": "code", 
            "metadata": {}, 
            "outputs": [
                {
                    "execution_count": 7, 
                    "metadata": {}, 
                    "data": {
                        "text/plain": "Unnamed: 0                     0\nMonths since Last Donation     0\nNumber of Donations            0\nTotal Volume Donated (c.c.)    0\nMonths since First Donation    0\nMade Donation in March 2007    0\ndtype: int64"
                    }, 
                    "output_type": "execute_result"
                }
            ], 
            "source": "#check the null values\ndf_train.isnull().sum()"
        }, 
        {
            "execution_count": 8, 
            "cell_type": "code", 
            "metadata": {}, 
            "outputs": [
                {
                    "execution_count": 8, 
                    "metadata": {}, 
                    "data": {
                        "text/plain": "Unnamed: 0                     0\nMonths since Last Donation     0\nNumber of Donations            0\nTotal Volume Donated (c.c.)    0\nMonths since First Donation    0\ndtype: int64"
                    }, 
                    "output_type": "execute_result"
                }
            ], 
            "source": "df_test.isnull().sum()"
        }, 
        {
            "source": "#### No null values", 
            "cell_type": "markdown", 
            "metadata": {}
        }, 
        {
            "execution_count": 10, 
            "cell_type": "code", 
            "metadata": {}, 
            "outputs": [
                {
                    "execution_count": 10, 
                    "metadata": {}, 
                    "data": {
                        "text/plain": "Unnamed: 0                     int64\nMonths since Last Donation     int64\nNumber of Donations            int64\nTotal Volume Donated (c.c.)    int64\nMonths since First Donation    int64\nMade Donation in March 2007    int64\ndtype: object"
                    }, 
                    "output_type": "execute_result"
                }
            ], 
            "source": "df_train.dtypes"
        }, 
        {
            "execution_count": 30, 
            "cell_type": "code", 
            "metadata": {}, 
            "outputs": [
                {
                    "execution_count": 30, 
                    "metadata": {}, 
                    "data": {
                        "text/html": "<div>\n<style scoped>\n    .dataframe tbody tr th:only-of-type {\n        vertical-align: middle;\n    }\n\n    .dataframe tbody tr th {\n        vertical-align: top;\n    }\n\n    .dataframe thead th {\n        text-align: right;\n    }\n</style>\n<table border=\"1\" class=\"dataframe\">\n  <thead>\n    <tr style=\"text-align: right;\">\n      <th></th>\n      <th>Unnamed: 0</th>\n      <th>Months since Last Donation</th>\n      <th>Number of Donations</th>\n      <th>Total Volume Donated (c.c.)</th>\n      <th>Months since First Donation</th>\n      <th>Made Donation in March 2007</th>\n    </tr>\n  </thead>\n  <tbody>\n    <tr>\n      <th>Unnamed: 0</th>\n      <td>1.000000</td>\n      <td>-0.023217</td>\n      <td>0.063148</td>\n      <td>0.063148</td>\n      <td>0.098370</td>\n      <td>0.041925</td>\n    </tr>\n    <tr>\n      <th>Months since Last Donation</th>\n      <td>-0.023217</td>\n      <td>1.000000</td>\n      <td>-0.159731</td>\n      <td>-0.159731</td>\n      <td>0.186899</td>\n      <td>-0.261234</td>\n    </tr>\n    <tr>\n      <th>Number of Donations</th>\n      <td>0.063148</td>\n      <td>-0.159731</td>\n      <td>1.000000</td>\n      <td>1.000000</td>\n      <td>0.622116</td>\n      <td>0.220615</td>\n    </tr>\n    <tr>\n      <th>Total Volume Donated (c.c.)</th>\n      <td>0.063148</td>\n      <td>-0.159731</td>\n      <td>1.000000</td>\n      <td>1.000000</td>\n      <td>0.622116</td>\n      <td>0.220615</td>\n    </tr>\n    <tr>\n      <th>Months since First Donation</th>\n      <td>0.098370</td>\n      <td>0.186899</td>\n      <td>0.622116</td>\n      <td>0.622116</td>\n      <td>1.000000</td>\n      <td>-0.019819</td>\n    </tr>\n    <tr>\n      <th>Made Donation in March 2007</th>\n      <td>0.041925</td>\n      <td>-0.261234</td>\n      <td>0.220615</td>\n      <td>0.220615</td>\n      <td>-0.019819</td>\n      <td>1.000000</td>\n    </tr>\n  </tbody>\n</table>\n</div>", 
                        "text/plain": "                             Unnamed: 0  Months since Last Donation  \\\nUnnamed: 0                     1.000000                   -0.023217   \nMonths since Last Donation    -0.023217                    1.000000   \nNumber of Donations            0.063148                   -0.159731   \nTotal Volume Donated (c.c.)    0.063148                   -0.159731   \nMonths since First Donation    0.098370                    0.186899   \nMade Donation in March 2007    0.041925                   -0.261234   \n\n                             Number of Donations  Total Volume Donated (c.c.)  \\\nUnnamed: 0                              0.063148                     0.063148   \nMonths since Last Donation             -0.159731                    -0.159731   \nNumber of Donations                     1.000000                     1.000000   \nTotal Volume Donated (c.c.)             1.000000                     1.000000   \nMonths since First Donation             0.622116                     0.622116   \nMade Donation in March 2007             0.220615                     0.220615   \n\n                             Months since First Donation  \\\nUnnamed: 0                                      0.098370   \nMonths since Last Donation                      0.186899   \nNumber of Donations                             0.622116   \nTotal Volume Donated (c.c.)                     0.622116   \nMonths since First Donation                     1.000000   \nMade Donation in March 2007                    -0.019819   \n\n                             Made Donation in March 2007  \nUnnamed: 0                                      0.041925  \nMonths since Last Donation                     -0.261234  \nNumber of Donations                             0.220615  \nTotal Volume Donated (c.c.)                     0.220615  \nMonths since First Donation                    -0.019819  \nMade Donation in March 2007                     1.000000  "
                    }, 
                    "output_type": "execute_result"
                }
            ], 
            "source": "df_train.corr()"
        }, 
        {
            "execution_count": 11, 
            "cell_type": "code", 
            "metadata": {}, 
            "outputs": [
                {
                    "execution_count": 11, 
                    "metadata": {}, 
                    "data": {
                        "text/plain": "Index(['Unnamed: 0', 'Months since Last Donation', 'Number of Donations',\n       'Total Volume Donated (c.c.)', 'Months since First Donation',\n       'Made Donation in March 2007'],\n      dtype='object')"
                    }, 
                    "output_type": "execute_result"
                }
            ], 
            "source": "df_train.columns"
        }, 
        {
            "execution_count": 12, 
            "cell_type": "code", 
            "metadata": {}, 
            "outputs": [], 
            "source": "x=df_train[['Months since Last Donation', 'Number of Donations',\n       'Total Volume Donated (c.c.)', 'Months since First Donation']].values"
        }, 
        {
            "execution_count": 13, 
            "cell_type": "code", 
            "metadata": {}, 
            "outputs": [], 
            "source": "y=df_train['Made Donation in March 2007'].values"
        }, 
        {
            "execution_count": 14, 
            "cell_type": "code", 
            "metadata": {}, 
            "outputs": [
                {
                    "output_type": "stream", 
                    "name": "stderr", 
                    "text": "/opt/conda/envs/DSX-Python35/lib/python3.5/site-packages/sklearn/utils/validation.py:475: DataConversionWarning: Data with input dtype int64 was converted to float64 by StandardScaler.\n  warnings.warn(msg, DataConversionWarning)\n"
                }
            ], 
            "source": "x=preprocessing.StandardScaler().fit(x).transform(x)"
        }, 
        {
            "source": "#### Split Your Dataset", 
            "cell_type": "markdown", 
            "metadata": {}
        }, 
        {
            "execution_count": 15, 
            "cell_type": "code", 
            "metadata": {}, 
            "outputs": [], 
            "source": "x_train,x_test,y_train,y_test=train_test_split(x,y,test_size=0.20,random_state=4)"
        }, 
        {
            "execution_count": 16, 
            "cell_type": "code", 
            "metadata": {}, 
            "outputs": [
                {
                    "output_type": "stream", 
                    "name": "stdout", 
                    "text": "x_train (460, 4)\ny_train (460,)\n"
                }
            ], 
            "source": "print('x_train',x_train.shape)\nprint('y_train',y_train.shape)"
        }, 
        {
            "source": "* Data was split well", 
            "cell_type": "markdown", 
            "metadata": {}
        }, 
        {
            "execution_count": 22, 
            "cell_type": "code", 
            "metadata": {}, 
            "outputs": [], 
            "source": "model1=DecisionTreeClassifier(criterion='entropy',max_depth=4)\nmodel2=LogisticRegression(C=0.01,solver='liblinear')\nmodel3=KNeighborsClassifier(n_neighbors=6)"
        }, 
        {
            "execution_count": 20, 
            "cell_type": "code", 
            "metadata": {}, 
            "outputs": [
                {
                    "execution_count": 20, 
                    "metadata": {}, 
                    "data": {
                        "text/plain": "array([ 0.68965517,  0.78448276,  0.78448276,  0.80172414,  0.75862069,\n        0.81896552,  0.80172414,  0.78448276,  0.81896552])"
                    }, 
                    "output_type": "execute_result"
                }
            ], 
            "source": "Ks = 10\nmean_acc = np.zeros((Ks-1))\nstd_acc = np.zeros((Ks-1))\nConfustionMx = [];\nfor n in range(1,Ks):\n    \n    #Train Model and Predict  \n    neigh = KNeighborsClassifier(n_neighbors = n).fit(x_train,y_train)\n    yhat=neigh.predict(x_test)\n    mean_acc[n-1] = metrics.accuracy_score(y_test, yhat)\n\n    \n    std_acc[n-1]=np.std(yhat==y_test)/np.sqrt(yhat.shape[0])\n\nmean_acc"
        }, 
        {
            "execution_count": 21, 
            "cell_type": "code", 
            "metadata": {}, 
            "outputs": [
                {
                    "output_type": "stream", 
                    "name": "stdout", 
                    "text": "The best accuracy was with 0.818965517241 with k= 6\n"
                }
            ], 
            "source": "print( \"The best accuracy was with\", mean_acc.max(), \"with k=\", mean_acc.argmax()+1)"
        }, 
        {
            "source": "### Train your models", 
            "cell_type": "markdown", 
            "metadata": {}
        }, 
        {
            "execution_count": 24, 
            "cell_type": "code", 
            "metadata": {}, 
            "outputs": [
                {
                    "execution_count": 24, 
                    "metadata": {}, 
                    "data": {
                        "text/plain": "KNeighborsClassifier(algorithm='auto', leaf_size=30, metric='minkowski',\n           metric_params=None, n_jobs=1, n_neighbors=6, p=2,\n           weights='uniform')"
                    }, 
                    "output_type": "execute_result"
                }
            ], 
            "source": "model1.fit(x_train,y_train)\nmodel2.fit(x_train,y_train)\nmodel3.fit(x_train,y_train)"
        }, 
        {
            "source": "### Predict your outcome", 
            "cell_type": "markdown", 
            "metadata": {}
        }, 
        {
            "execution_count": 25, 
            "cell_type": "code", 
            "metadata": {}, 
            "outputs": [], 
            "source": "y_hat1=model1.predict(x_test)\ny_hat2=model2.predict(x_test)\ny_hat3=model3.predict(x_test)"
        }, 
        {
            "execution_count": 26, 
            "cell_type": "code", 
            "metadata": {}, 
            "outputs": [
                {
                    "output_type": "stream", 
                    "name": "stdout", 
                    "text": "predicted [0 0 1 0 0]\nactual [0 0 1 0 0]\n"
                }
            ], 
            "source": "print('predicted',y_hat1[0:5])\nprint('actual',y_test[0:5])"
        }, 
        {
            "execution_count": 39, 
            "cell_type": "code", 
            "metadata": {}, 
            "outputs": [], 
            "source": "y_hat1prob=model1.predict_proba(x_test)\ny_hat2prob=model2.predict_proba(x_test)\ny_hat3prob=model3.predict_proba(x_test)"
        }, 
        {
            "execution_count": null, 
            "cell_type": "code", 
            "metadata": {}, 
            "outputs": [], 
            "source": ""
        }, 
        {
            "execution_count": null, 
            "cell_type": "code", 
            "metadata": {}, 
            "outputs": [], 
            "source": ""
        }, 
        {
            "source": "### Evaluation", 
            "cell_type": "markdown", 
            "metadata": {}
        }, 
        {
            "execution_count": 27, 
            "cell_type": "code", 
            "metadata": {}, 
            "outputs": [
                {
                    "execution_count": 27, 
                    "metadata": {}, 
                    "data": {
                        "text/plain": "0.81896551724137934"
                    }, 
                    "output_type": "execute_result"
                }
            ], 
            "source": "from sklearn.metrics import jaccard_similarity_score\njaccard_similarity_score(y_test,y_hat1)"
        }, 
        {
            "execution_count": 28, 
            "cell_type": "code", 
            "metadata": {}, 
            "outputs": [
                {
                    "execution_count": 28, 
                    "metadata": {}, 
                    "data": {
                        "text/plain": "0.81896551724137934"
                    }, 
                    "output_type": "execute_result"
                }
            ], 
            "source": "from sklearn.metrics import jaccard_similarity_score\njaccard_similarity_score(y_test,y_hat2)"
        }, 
        {
            "execution_count": 29, 
            "cell_type": "code", 
            "metadata": {}, 
            "outputs": [
                {
                    "execution_count": 29, 
                    "metadata": {}, 
                    "data": {
                        "text/plain": "0.81896551724137934"
                    }, 
                    "output_type": "execute_result"
                }
            ], 
            "source": "from sklearn.metrics import jaccard_similarity_score\njaccard_similarity_score(y_test,y_hat3)"
        }, 
        {
            "source": "## Log Loss", 
            "cell_type": "markdown", 
            "metadata": {}
        }, 
        {
            "execution_count": 40, 
            "cell_type": "code", 
            "metadata": {}, 
            "outputs": [
                {
                    "execution_count": 40, 
                    "metadata": {}, 
                    "data": {
                        "text/plain": "1.0254684538134027"
                    }, 
                    "output_type": "execute_result"
                }
            ], 
            "source": ""
        }, 
        {
            "execution_count": 41, 
            "cell_type": "code", 
            "metadata": {}, 
            "outputs": [
                {
                    "execution_count": 41, 
                    "metadata": {}, 
                    "data": {
                        "text/plain": "0.52291698282628485"
                    }, 
                    "output_type": "execute_result"
                }
            ], 
            "source": "log_loss(y_test,y_hat2prob)"
        }, 
        {
            "execution_count": 42, 
            "cell_type": "code", 
            "metadata": {}, 
            "outputs": [
                {
                    "execution_count": 42, 
                    "metadata": {}, 
                    "data": {
                        "text/plain": "2.7214711750141163"
                    }, 
                    "output_type": "execute_result"
                }
            ], 
            "source": "log_loss(y_test,y_hat3prob)"
        }, 
        {
            "execution_count": null, 
            "cell_type": "code", 
            "metadata": {}, 
            "outputs": [], 
            "source": ""
        }, 
        {
            "execution_count": null, 
            "cell_type": "code", 
            "metadata": {}, 
            "outputs": [], 
            "source": ""
        }, 
        {
            "source": "### Testing", 
            "cell_type": "markdown", 
            "metadata": {}
        }, 
        {
            "execution_count": 31, 
            "cell_type": "code", 
            "metadata": {}, 
            "outputs": [
                {
                    "execution_count": 31, 
                    "metadata": {}, 
                    "data": {
                        "text/html": "<div>\n<style scoped>\n    .dataframe tbody tr th:only-of-type {\n        vertical-align: middle;\n    }\n\n    .dataframe tbody tr th {\n        vertical-align: top;\n    }\n\n    .dataframe thead th {\n        text-align: right;\n    }\n</style>\n<table border=\"1\" class=\"dataframe\">\n  <thead>\n    <tr style=\"text-align: right;\">\n      <th></th>\n      <th>Unnamed: 0</th>\n      <th>Months since Last Donation</th>\n      <th>Number of Donations</th>\n      <th>Total Volume Donated (c.c.)</th>\n      <th>Months since First Donation</th>\n    </tr>\n  </thead>\n  <tbody>\n    <tr>\n      <th>0</th>\n      <td>659</td>\n      <td>2</td>\n      <td>12</td>\n      <td>3000</td>\n      <td>52</td>\n    </tr>\n    <tr>\n      <th>1</th>\n      <td>276</td>\n      <td>21</td>\n      <td>7</td>\n      <td>1750</td>\n      <td>38</td>\n    </tr>\n    <tr>\n      <th>2</th>\n      <td>263</td>\n      <td>4</td>\n      <td>1</td>\n      <td>250</td>\n      <td>4</td>\n    </tr>\n    <tr>\n      <th>3</th>\n      <td>303</td>\n      <td>11</td>\n      <td>11</td>\n      <td>2750</td>\n      <td>38</td>\n    </tr>\n    <tr>\n      <th>4</th>\n      <td>83</td>\n      <td>4</td>\n      <td>12</td>\n      <td>3000</td>\n      <td>34</td>\n    </tr>\n  </tbody>\n</table>\n</div>", 
                        "text/plain": "   Unnamed: 0  Months since Last Donation  Number of Donations  \\\n0         659                           2                   12   \n1         276                          21                    7   \n2         263                           4                    1   \n3         303                          11                   11   \n4          83                           4                   12   \n\n   Total Volume Donated (c.c.)  Months since First Donation  \n0                         3000                           52  \n1                         1750                           38  \n2                          250                            4  \n3                         2750                           38  \n4                         3000                           34  "
                    }, 
                    "output_type": "execute_result"
                }
            ], 
            "source": "df_test.head()"
        }, 
        {
            "execution_count": 32, 
            "cell_type": "code", 
            "metadata": {}, 
            "outputs": [
                {
                    "execution_count": 32, 
                    "metadata": {}, 
                    "data": {
                        "text/plain": "Index(['Unnamed: 0', 'Months since Last Donation', 'Number of Donations',\n       'Total Volume Donated (c.c.)', 'Months since First Donation'],\n      dtype='object')"
                    }, 
                    "output_type": "execute_result"
                }
            ], 
            "source": "df_test.columns"
        }, 
        {
            "execution_count": 33, 
            "cell_type": "code", 
            "metadata": {}, 
            "outputs": [], 
            "source": "test_x=df_test[['Months since Last Donation', 'Number of Donations',\n       'Total Volume Donated (c.c.)', 'Months since First Donation']].values"
        }, 
        {
            "execution_count": 34, 
            "cell_type": "code", 
            "metadata": {}, 
            "outputs": [
                {
                    "output_type": "stream", 
                    "name": "stderr", 
                    "text": "/opt/conda/envs/DSX-Python35/lib/python3.5/site-packages/sklearn/utils/validation.py:475: DataConversionWarning: Data with input dtype int64 was converted to float64 by StandardScaler.\n  warnings.warn(msg, DataConversionWarning)\n"
                }
            ], 
            "source": "test_x=preprocessing.StandardScaler().fit(test_x).transform(test_x)"
        }, 
        {
            "source": "### predict", 
            "cell_type": "markdown", 
            "metadata": {}
        }, 
        {
            "execution_count": 35, 
            "cell_type": "code", 
            "metadata": {}, 
            "outputs": [], 
            "source": "yhat1=model1.predict_proba(test_x)\nyhat2=model2.predict_proba(test_x)\nyhat3=model3.predict_proba(test_x)"
        }, 
        {
            "execution_count": 36, 
            "cell_type": "code", 
            "metadata": {}, 
            "outputs": [
                {
                    "execution_count": 36, 
                    "metadata": {}, 
                    "data": {
                        "text/plain": "array([[ 0.84210526,  0.15789474],\n       [ 0.        ,  1.        ],\n       [ 0.75409836,  0.24590164],\n       [ 0.88481675,  0.11518325],\n       [ 0.275     ,  0.725     ]])"
                    }, 
                    "output_type": "execute_result"
                }
            ], 
            "source": "yhat1[0:5]"
        }, 
        {
            "execution_count": 37, 
            "cell_type": "code", 
            "metadata": {}, 
            "outputs": [], 
            "source": "Decision=pd.DataFrame(yhat1)"
        }, 
        {
            "execution_count": 38, 
            "cell_type": "code", 
            "metadata": {}, 
            "outputs": [
                {
                    "execution_count": 38, 
                    "metadata": {}, 
                    "data": {
                        "text/html": "<div>\n<style scoped>\n    .dataframe tbody tr th:only-of-type {\n        vertical-align: middle;\n    }\n\n    .dataframe tbody tr th {\n        vertical-align: top;\n    }\n\n    .dataframe thead th {\n        text-align: right;\n    }\n</style>\n<table border=\"1\" class=\"dataframe\">\n  <thead>\n    <tr style=\"text-align: right;\">\n      <th></th>\n      <th>0</th>\n      <th>1</th>\n    </tr>\n  </thead>\n  <tbody>\n    <tr>\n      <th>0</th>\n      <td>0.842105</td>\n      <td>0.157895</td>\n    </tr>\n    <tr>\n      <th>1</th>\n      <td>0.000000</td>\n      <td>1.000000</td>\n    </tr>\n    <tr>\n      <th>2</th>\n      <td>0.754098</td>\n      <td>0.245902</td>\n    </tr>\n    <tr>\n      <th>3</th>\n      <td>0.884817</td>\n      <td>0.115183</td>\n    </tr>\n    <tr>\n      <th>4</th>\n      <td>0.275000</td>\n      <td>0.725000</td>\n    </tr>\n  </tbody>\n</table>\n</div>", 
                        "text/plain": "          0         1\n0  0.842105  0.157895\n1  0.000000  1.000000\n2  0.754098  0.245902\n3  0.884817  0.115183\n4  0.275000  0.725000"
                    }, 
                    "output_type": "execute_result"
                }
            ], 
            "source": "Decision.head()"
        }, 
        {
            "execution_count": 57, 
            "cell_type": "code", 
            "metadata": {}, 
            "outputs": [], 
            "source": "Decision.columns=['zero','Made Donation in March 2007']"
        }, 
        {
            "execution_count": 58, 
            "cell_type": "code", 
            "metadata": {}, 
            "outputs": [
                {
                    "execution_count": 58, 
                    "metadata": {}, 
                    "data": {
                        "text/html": "<div>\n<style scoped>\n    .dataframe tbody tr th:only-of-type {\n        vertical-align: middle;\n    }\n\n    .dataframe tbody tr th {\n        vertical-align: top;\n    }\n\n    .dataframe thead th {\n        text-align: right;\n    }\n</style>\n<table border=\"1\" class=\"dataframe\">\n  <thead>\n    <tr style=\"text-align: right;\">\n      <th></th>\n      <th>Unnamed: 0</th>\n      <th>Months since Last Donation</th>\n      <th>Number of Donations</th>\n      <th>Total Volume Donated (c.c.)</th>\n      <th>Months since First Donation</th>\n      <th>zero</th>\n      <th>Made Donation in March 2007</th>\n    </tr>\n  </thead>\n  <tbody>\n    <tr>\n      <th>0</th>\n      <td>659</td>\n      <td>2</td>\n      <td>12</td>\n      <td>3000</td>\n      <td>52</td>\n      <td>0.842105</td>\n      <td>0.157895</td>\n    </tr>\n    <tr>\n      <th>1</th>\n      <td>276</td>\n      <td>21</td>\n      <td>7</td>\n      <td>1750</td>\n      <td>38</td>\n      <td>0.000000</td>\n      <td>1.000000</td>\n    </tr>\n    <tr>\n      <th>2</th>\n      <td>263</td>\n      <td>4</td>\n      <td>1</td>\n      <td>250</td>\n      <td>4</td>\n      <td>0.754098</td>\n      <td>0.245902</td>\n    </tr>\n    <tr>\n      <th>3</th>\n      <td>303</td>\n      <td>11</td>\n      <td>11</td>\n      <td>2750</td>\n      <td>38</td>\n      <td>0.884817</td>\n      <td>0.115183</td>\n    </tr>\n    <tr>\n      <th>4</th>\n      <td>83</td>\n      <td>4</td>\n      <td>12</td>\n      <td>3000</td>\n      <td>34</td>\n      <td>0.275000</td>\n      <td>0.725000</td>\n    </tr>\n  </tbody>\n</table>\n</div>", 
                        "text/plain": "   Unnamed: 0  Months since Last Donation  Number of Donations  \\\n0         659                           2                   12   \n1         276                          21                    7   \n2         263                           4                    1   \n3         303                          11                   11   \n4          83                           4                   12   \n\n   Total Volume Donated (c.c.)  Months since First Donation      zero  \\\n0                         3000                           52  0.842105   \n1                         1750                           38  0.000000   \n2                          250                            4  0.754098   \n3                         2750                           38  0.884817   \n4                         3000                           34  0.275000   \n\n   Made Donation in March 2007  \n0                     0.157895  \n1                     1.000000  \n2                     0.245902  \n3                     0.115183  \n4                     0.725000  "
                    }, 
                    "output_type": "execute_result"
                }
            ], 
            "source": "df_final=pd.concat([df_test,Decision],axis=1)\ndf_final.head()"
        }, 
        {
            "execution_count": 47, 
            "cell_type": "code", 
            "metadata": {}, 
            "outputs": [
                {
                    "execution_count": 47, 
                    "metadata": {}, 
                    "data": {
                        "text/plain": "Index(['Unnamed: 0', 'Months since Last Donation', 'Number of Donations',\n       'Total Volume Donated (c.c.)', 'Months since First Donation', 'zero',\n       'one'],\n      dtype='object')"
                    }, 
                    "output_type": "execute_result"
                }
            ], 
            "source": "df_final.columns"
        }, 
        {
            "execution_count": 49, 
            "cell_type": "code", 
            "metadata": {}, 
            "outputs": [
                {
                    "execution_count": 49, 
                    "metadata": {}, 
                    "data": {
                        "text/html": "<div>\n<style scoped>\n    .dataframe tbody tr th:only-of-type {\n        vertical-align: middle;\n    }\n\n    .dataframe tbody tr th {\n        vertical-align: top;\n    }\n\n    .dataframe thead th {\n        text-align: right;\n    }\n</style>\n<table border=\"1\" class=\"dataframe\">\n  <thead>\n    <tr style=\"text-align: right;\">\n      <th></th>\n      <th>Unnamed: 0</th>\n      <th>one</th>\n    </tr>\n  </thead>\n  <tbody>\n    <tr>\n      <th>0</th>\n      <td>659</td>\n      <td>0.157895</td>\n    </tr>\n    <tr>\n      <th>1</th>\n      <td>276</td>\n      <td>1.000000</td>\n    </tr>\n    <tr>\n      <th>2</th>\n      <td>263</td>\n      <td>0.245902</td>\n    </tr>\n    <tr>\n      <th>3</th>\n      <td>303</td>\n      <td>0.115183</td>\n    </tr>\n    <tr>\n      <th>4</th>\n      <td>83</td>\n      <td>0.725000</td>\n    </tr>\n  </tbody>\n</table>\n</div>", 
                        "text/plain": "   Unnamed: 0       one\n0         659  0.157895\n1         276  1.000000\n2         263  0.245902\n3         303  0.115183\n4          83  0.725000"
                    }, 
                    "output_type": "execute_result"
                }
            ], 
            "source": "df_sub=df_final[['Unnamed: 0','one']]\ndf_sub.head()"
        }, 
        {
            "execution_count": 59, 
            "cell_type": "code", 
            "metadata": {}, 
            "outputs": [
                {
                    "execution_count": 59, 
                    "metadata": {}, 
                    "data": {
                        "text/html": "<div>\n<style scoped>\n    .dataframe tbody tr th:only-of-type {\n        vertical-align: middle;\n    }\n\n    .dataframe tbody tr th {\n        vertical-align: top;\n    }\n\n    .dataframe thead th {\n        text-align: right;\n    }\n</style>\n<table border=\"1\" class=\"dataframe\">\n  <thead>\n    <tr style=\"text-align: right;\">\n      <th></th>\n      <th>zero</th>\n      <th>Made Donation in March 2007</th>\n    </tr>\n  </thead>\n  <tbody>\n    <tr>\n      <th>0</th>\n      <td>0.524924</td>\n      <td>0.475076</td>\n    </tr>\n    <tr>\n      <th>1</th>\n      <td>0.710904</td>\n      <td>0.289096</td>\n    </tr>\n    <tr>\n      <th>2</th>\n      <td>0.616586</td>\n      <td>0.383414</td>\n    </tr>\n    <tr>\n      <th>3</th>\n      <td>0.597224</td>\n      <td>0.402776</td>\n    </tr>\n    <tr>\n      <th>4</th>\n      <td>0.525910</td>\n      <td>0.474090</td>\n    </tr>\n  </tbody>\n</table>\n</div>", 
                        "text/plain": "       zero  Made Donation in March 2007\n0  0.524924                     0.475076\n1  0.710904                     0.289096\n2  0.616586                     0.383414\n3  0.597224                     0.402776\n4  0.525910                     0.474090"
                    }, 
                    "output_type": "execute_result"
                }
            ], 
            "source": "logistic=pd.DataFrame(yhat2)\nlogistic.columns=['zero','Made Donation in March 2007']\nlogistic.head()"
        }, 
        {
            "execution_count": 60, 
            "cell_type": "code", 
            "metadata": {}, 
            "outputs": [
                {
                    "execution_count": 60, 
                    "metadata": {}, 
                    "data": {
                        "text/html": "<div>\n<style scoped>\n    .dataframe tbody tr th:only-of-type {\n        vertical-align: middle;\n    }\n\n    .dataframe tbody tr th {\n        vertical-align: top;\n    }\n\n    .dataframe thead th {\n        text-align: right;\n    }\n</style>\n<table border=\"1\" class=\"dataframe\">\n  <thead>\n    <tr style=\"text-align: right;\">\n      <th></th>\n      <th>Unnamed: 0</th>\n      <th>Months since Last Donation</th>\n      <th>Number of Donations</th>\n      <th>Total Volume Donated (c.c.)</th>\n      <th>Months since First Donation</th>\n      <th>zero</th>\n      <th>Made Donation in March 2007</th>\n    </tr>\n  </thead>\n  <tbody>\n    <tr>\n      <th>0</th>\n      <td>659</td>\n      <td>2</td>\n      <td>12</td>\n      <td>3000</td>\n      <td>52</td>\n      <td>0.524924</td>\n      <td>0.475076</td>\n    </tr>\n    <tr>\n      <th>1</th>\n      <td>276</td>\n      <td>21</td>\n      <td>7</td>\n      <td>1750</td>\n      <td>38</td>\n      <td>0.710904</td>\n      <td>0.289096</td>\n    </tr>\n    <tr>\n      <th>2</th>\n      <td>263</td>\n      <td>4</td>\n      <td>1</td>\n      <td>250</td>\n      <td>4</td>\n      <td>0.616586</td>\n      <td>0.383414</td>\n    </tr>\n    <tr>\n      <th>3</th>\n      <td>303</td>\n      <td>11</td>\n      <td>11</td>\n      <td>2750</td>\n      <td>38</td>\n      <td>0.597224</td>\n      <td>0.402776</td>\n    </tr>\n    <tr>\n      <th>4</th>\n      <td>83</td>\n      <td>4</td>\n      <td>12</td>\n      <td>3000</td>\n      <td>34</td>\n      <td>0.525910</td>\n      <td>0.474090</td>\n    </tr>\n  </tbody>\n</table>\n</div>", 
                        "text/plain": "   Unnamed: 0  Months since Last Donation  Number of Donations  \\\n0         659                           2                   12   \n1         276                          21                    7   \n2         263                           4                    1   \n3         303                          11                   11   \n4          83                           4                   12   \n\n   Total Volume Donated (c.c.)  Months since First Donation      zero  \\\n0                         3000                           52  0.524924   \n1                         1750                           38  0.710904   \n2                          250                            4  0.616586   \n3                         2750                           38  0.597224   \n4                         3000                           34  0.525910   \n\n   Made Donation in March 2007  \n0                     0.475076  \n1                     0.289096  \n2                     0.383414  \n3                     0.402776  \n4                     0.474090  "
                    }, 
                    "output_type": "execute_result"
                }
            ], 
            "source": "df_final2=pd.concat([df_test,logistic],axis=1)\ndf_final2.head()"
        }, 
        {
            "execution_count": 61, 
            "cell_type": "code", 
            "metadata": {}, 
            "outputs": [
                {
                    "execution_count": 61, 
                    "metadata": {}, 
                    "data": {
                        "text/html": "<div>\n<style scoped>\n    .dataframe tbody tr th:only-of-type {\n        vertical-align: middle;\n    }\n\n    .dataframe tbody tr th {\n        vertical-align: top;\n    }\n\n    .dataframe thead th {\n        text-align: right;\n    }\n</style>\n<table border=\"1\" class=\"dataframe\">\n  <thead>\n    <tr style=\"text-align: right;\">\n      <th></th>\n      <th>Unnamed: 0</th>\n      <th>Made Donation in March 2007</th>\n    </tr>\n  </thead>\n  <tbody>\n    <tr>\n      <th>0</th>\n      <td>659</td>\n      <td>0.475076</td>\n    </tr>\n    <tr>\n      <th>1</th>\n      <td>276</td>\n      <td>0.289096</td>\n    </tr>\n    <tr>\n      <th>2</th>\n      <td>263</td>\n      <td>0.383414</td>\n    </tr>\n    <tr>\n      <th>3</th>\n      <td>303</td>\n      <td>0.402776</td>\n    </tr>\n    <tr>\n      <th>4</th>\n      <td>83</td>\n      <td>0.474090</td>\n    </tr>\n  </tbody>\n</table>\n</div>", 
                        "text/plain": "   Unnamed: 0  Made Donation in March 2007\n0         659                     0.475076\n1         276                     0.289096\n2         263                     0.383414\n3         303                     0.402776\n4          83                     0.474090"
                    }, 
                    "output_type": "execute_result"
                }
            ], 
            "source": "df_sub1=df_final2[['Unnamed: 0','Made Donation in March 2007']]\ndf_sub1.head()"
        }, 
        {
            "execution_count": 62, 
            "cell_type": "code", 
            "metadata": {}, 
            "outputs": [
                {
                    "execution_count": 62, 
                    "metadata": {}, 
                    "data": {
                        "text/plain": "{'asset_id': 'e7dd2eae-25d9-4857-a1c9-c7fcd8863af1',\n 'bucket_name': 'predictblooddonation-donotdelete-pr-zd9e3njxbqzk3r',\n 'file_name': 'Logistic_prediction.csv',\n 'message': 'File saved to project storage.'}"
                    }, 
                    "output_type": "execute_result"
                }
            ], 
            "source": "project.save_data(data=df_sub1.to_csv(index=False),file_name='Logistic_prediction.csv',overwrite=True)"
        }, 
        {
            "execution_count": null, 
            "cell_type": "code", 
            "metadata": {}, 
            "outputs": [], 
            "source": ""
        }
    ], 
    "metadata": {
        "kernelspec": {
            "display_name": "Python 3.5", 
            "name": "python3", 
            "language": "python"
        }, 
        "language_info": {
            "mimetype": "text/x-python", 
            "nbconvert_exporter": "python", 
            "version": "3.5.5", 
            "name": "python", 
            "file_extension": ".py", 
            "pygments_lexer": "ipython3", 
            "codemirror_mode": {
                "version": 3, 
                "name": "ipython"
            }
        }
    }, 
    "nbformat": 4
}